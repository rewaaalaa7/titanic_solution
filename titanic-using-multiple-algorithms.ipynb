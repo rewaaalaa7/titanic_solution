{
 "cells": [
  {
   "cell_type": "code",
   "execution_count": 1,
   "id": "d9c67d9c",
   "metadata": {
    "execution": {
     "iopub.execute_input": "2023-10-15T08:54:09.533770Z",
     "iopub.status.busy": "2023-10-15T08:54:09.533386Z",
     "iopub.status.idle": "2023-10-15T08:54:12.195108Z",
     "shell.execute_reply": "2023-10-15T08:54:12.194044Z"
    },
    "papermill": {
     "duration": 2.682349,
     "end_time": "2023-10-15T08:54:12.197604",
     "exception": false,
     "start_time": "2023-10-15T08:54:09.515255",
     "status": "completed"
    },
    "tags": []
   },
   "outputs": [],
   "source": [
    "import pandas as pd\n",
    "import numpy as np\n",
    "import matplotlib.pyplot as plt\n",
    "import seaborn as sns\n",
    "sns.set()\n",
    "\n",
    "# Importing Classifier Modules\n",
    "from sklearn.neighbors import KNeighborsClassifier\n",
    "from sklearn.tree import DecisionTreeClassifier\n",
    "from sklearn.ensemble import RandomForestClassifier\n",
    "from sklearn.svm import SVC\n",
    "from xgboost import XGBClassifier\n",
    "\n",
    "import warnings\n",
    "warnings.filterwarnings('ignore')"
   ]
  },
  {
   "cell_type": "code",
   "execution_count": 2,
   "id": "02cce131",
   "metadata": {
    "execution": {
     "iopub.execute_input": "2023-10-15T08:54:12.230349Z",
     "iopub.status.busy": "2023-10-15T08:54:12.229780Z",
     "iopub.status.idle": "2023-10-15T08:54:12.259056Z",
     "shell.execute_reply": "2023-10-15T08:54:12.258164Z"
    },
    "papermill": {
     "duration": 0.048096,
     "end_time": "2023-10-15T08:54:12.261390",
     "exception": false,
     "start_time": "2023-10-15T08:54:12.213294",
     "status": "completed"
    },
    "tags": []
   },
   "outputs": [],
   "source": [
    "train= pd.read_csv(\"../input/titanic/train.csv\")\n",
    "test= pd.read_csv(\"../input/titanic/test.csv\")"
   ]
  },
  {
   "cell_type": "code",
   "execution_count": 3,
   "id": "3893283e",
   "metadata": {
    "execution": {
     "iopub.execute_input": "2023-10-15T08:54:12.295754Z",
     "iopub.status.busy": "2023-10-15T08:54:12.294472Z",
     "iopub.status.idle": "2023-10-15T08:54:12.321479Z",
     "shell.execute_reply": "2023-10-15T08:54:12.320308Z"
    },
    "papermill": {
     "duration": 0.046337,
     "end_time": "2023-10-15T08:54:12.323851",
     "exception": false,
     "start_time": "2023-10-15T08:54:12.277514",
     "status": "completed"
    },
    "tags": []
   },
   "outputs": [
    {
     "data": {
      "text/html": [
       "<div>\n",
       "<style scoped>\n",
       "    .dataframe tbody tr th:only-of-type {\n",
       "        vertical-align: middle;\n",
       "    }\n",
       "\n",
       "    .dataframe tbody tr th {\n",
       "        vertical-align: top;\n",
       "    }\n",
       "\n",
       "    .dataframe thead th {\n",
       "        text-align: right;\n",
       "    }\n",
       "</style>\n",
       "<table border=\"1\" class=\"dataframe\">\n",
       "  <thead>\n",
       "    <tr style=\"text-align: right;\">\n",
       "      <th></th>\n",
       "      <th>PassengerId</th>\n",
       "      <th>Survived</th>\n",
       "      <th>Pclass</th>\n",
       "      <th>Name</th>\n",
       "      <th>Sex</th>\n",
       "      <th>Age</th>\n",
       "      <th>SibSp</th>\n",
       "      <th>Parch</th>\n",
       "      <th>Ticket</th>\n",
       "      <th>Fare</th>\n",
       "      <th>Cabin</th>\n",
       "      <th>Embarked</th>\n",
       "    </tr>\n",
       "  </thead>\n",
       "  <tbody>\n",
       "    <tr>\n",
       "      <th>0</th>\n",
       "      <td>1</td>\n",
       "      <td>0</td>\n",
       "      <td>3</td>\n",
       "      <td>Braund, Mr. Owen Harris</td>\n",
       "      <td>male</td>\n",
       "      <td>22.0</td>\n",
       "      <td>1</td>\n",
       "      <td>0</td>\n",
       "      <td>A/5 21171</td>\n",
       "      <td>7.2500</td>\n",
       "      <td>NaN</td>\n",
       "      <td>S</td>\n",
       "    </tr>\n",
       "    <tr>\n",
       "      <th>1</th>\n",
       "      <td>2</td>\n",
       "      <td>1</td>\n",
       "      <td>1</td>\n",
       "      <td>Cumings, Mrs. John Bradley (Florence Briggs Th...</td>\n",
       "      <td>female</td>\n",
       "      <td>38.0</td>\n",
       "      <td>1</td>\n",
       "      <td>0</td>\n",
       "      <td>PC 17599</td>\n",
       "      <td>71.2833</td>\n",
       "      <td>C85</td>\n",
       "      <td>C</td>\n",
       "    </tr>\n",
       "    <tr>\n",
       "      <th>2</th>\n",
       "      <td>3</td>\n",
       "      <td>1</td>\n",
       "      <td>3</td>\n",
       "      <td>Heikkinen, Miss. Laina</td>\n",
       "      <td>female</td>\n",
       "      <td>26.0</td>\n",
       "      <td>0</td>\n",
       "      <td>0</td>\n",
       "      <td>STON/O2. 3101282</td>\n",
       "      <td>7.9250</td>\n",
       "      <td>NaN</td>\n",
       "      <td>S</td>\n",
       "    </tr>\n",
       "    <tr>\n",
       "      <th>3</th>\n",
       "      <td>4</td>\n",
       "      <td>1</td>\n",
       "      <td>1</td>\n",
       "      <td>Futrelle, Mrs. Jacques Heath (Lily May Peel)</td>\n",
       "      <td>female</td>\n",
       "      <td>35.0</td>\n",
       "      <td>1</td>\n",
       "      <td>0</td>\n",
       "      <td>113803</td>\n",
       "      <td>53.1000</td>\n",
       "      <td>C123</td>\n",
       "      <td>S</td>\n",
       "    </tr>\n",
       "    <tr>\n",
       "      <th>4</th>\n",
       "      <td>5</td>\n",
       "      <td>0</td>\n",
       "      <td>3</td>\n",
       "      <td>Allen, Mr. William Henry</td>\n",
       "      <td>male</td>\n",
       "      <td>35.0</td>\n",
       "      <td>0</td>\n",
       "      <td>0</td>\n",
       "      <td>373450</td>\n",
       "      <td>8.0500</td>\n",
       "      <td>NaN</td>\n",
       "      <td>S</td>\n",
       "    </tr>\n",
       "  </tbody>\n",
       "</table>\n",
       "</div>"
      ],
      "text/plain": [
       "   PassengerId  Survived  Pclass  \\\n",
       "0            1         0       3   \n",
       "1            2         1       1   \n",
       "2            3         1       3   \n",
       "3            4         1       1   \n",
       "4            5         0       3   \n",
       "\n",
       "                                                Name     Sex   Age  SibSp  \\\n",
       "0                            Braund, Mr. Owen Harris    male  22.0      1   \n",
       "1  Cumings, Mrs. John Bradley (Florence Briggs Th...  female  38.0      1   \n",
       "2                             Heikkinen, Miss. Laina  female  26.0      0   \n",
       "3       Futrelle, Mrs. Jacques Heath (Lily May Peel)  female  35.0      1   \n",
       "4                           Allen, Mr. William Henry    male  35.0      0   \n",
       "\n",
       "   Parch            Ticket     Fare Cabin Embarked  \n",
       "0      0         A/5 21171   7.2500   NaN        S  \n",
       "1      0          PC 17599  71.2833   C85        C  \n",
       "2      0  STON/O2. 3101282   7.9250   NaN        S  \n",
       "3      0            113803  53.1000  C123        S  \n",
       "4      0            373450   8.0500   NaN        S  "
      ]
     },
     "execution_count": 3,
     "metadata": {},
     "output_type": "execute_result"
    }
   ],
   "source": [
    "train.head()"
   ]
  },
  {
   "cell_type": "code",
   "execution_count": 4,
   "id": "2ff90286",
   "metadata": {
    "execution": {
     "iopub.execute_input": "2023-10-15T08:54:12.358694Z",
     "iopub.status.busy": "2023-10-15T08:54:12.357614Z",
     "iopub.status.idle": "2023-10-15T08:54:12.372104Z",
     "shell.execute_reply": "2023-10-15T08:54:12.371272Z"
    },
    "papermill": {
     "duration": 0.033772,
     "end_time": "2023-10-15T08:54:12.374093",
     "exception": false,
     "start_time": "2023-10-15T08:54:12.340321",
     "status": "completed"
    },
    "tags": []
   },
   "outputs": [
    {
     "data": {
      "text/html": [
       "<div>\n",
       "<style scoped>\n",
       "    .dataframe tbody tr th:only-of-type {\n",
       "        vertical-align: middle;\n",
       "    }\n",
       "\n",
       "    .dataframe tbody tr th {\n",
       "        vertical-align: top;\n",
       "    }\n",
       "\n",
       "    .dataframe thead th {\n",
       "        text-align: right;\n",
       "    }\n",
       "</style>\n",
       "<table border=\"1\" class=\"dataframe\">\n",
       "  <thead>\n",
       "    <tr style=\"text-align: right;\">\n",
       "      <th></th>\n",
       "      <th>PassengerId</th>\n",
       "      <th>Pclass</th>\n",
       "      <th>Name</th>\n",
       "      <th>Sex</th>\n",
       "      <th>Age</th>\n",
       "      <th>SibSp</th>\n",
       "      <th>Parch</th>\n",
       "      <th>Ticket</th>\n",
       "      <th>Fare</th>\n",
       "      <th>Cabin</th>\n",
       "      <th>Embarked</th>\n",
       "    </tr>\n",
       "  </thead>\n",
       "  <tbody>\n",
       "    <tr>\n",
       "      <th>0</th>\n",
       "      <td>892</td>\n",
       "      <td>3</td>\n",
       "      <td>Kelly, Mr. James</td>\n",
       "      <td>male</td>\n",
       "      <td>34.5</td>\n",
       "      <td>0</td>\n",
       "      <td>0</td>\n",
       "      <td>330911</td>\n",
       "      <td>7.8292</td>\n",
       "      <td>NaN</td>\n",
       "      <td>Q</td>\n",
       "    </tr>\n",
       "    <tr>\n",
       "      <th>1</th>\n",
       "      <td>893</td>\n",
       "      <td>3</td>\n",
       "      <td>Wilkes, Mrs. James (Ellen Needs)</td>\n",
       "      <td>female</td>\n",
       "      <td>47.0</td>\n",
       "      <td>1</td>\n",
       "      <td>0</td>\n",
       "      <td>363272</td>\n",
       "      <td>7.0000</td>\n",
       "      <td>NaN</td>\n",
       "      <td>S</td>\n",
       "    </tr>\n",
       "    <tr>\n",
       "      <th>2</th>\n",
       "      <td>894</td>\n",
       "      <td>2</td>\n",
       "      <td>Myles, Mr. Thomas Francis</td>\n",
       "      <td>male</td>\n",
       "      <td>62.0</td>\n",
       "      <td>0</td>\n",
       "      <td>0</td>\n",
       "      <td>240276</td>\n",
       "      <td>9.6875</td>\n",
       "      <td>NaN</td>\n",
       "      <td>Q</td>\n",
       "    </tr>\n",
       "    <tr>\n",
       "      <th>3</th>\n",
       "      <td>895</td>\n",
       "      <td>3</td>\n",
       "      <td>Wirz, Mr. Albert</td>\n",
       "      <td>male</td>\n",
       "      <td>27.0</td>\n",
       "      <td>0</td>\n",
       "      <td>0</td>\n",
       "      <td>315154</td>\n",
       "      <td>8.6625</td>\n",
       "      <td>NaN</td>\n",
       "      <td>S</td>\n",
       "    </tr>\n",
       "    <tr>\n",
       "      <th>4</th>\n",
       "      <td>896</td>\n",
       "      <td>3</td>\n",
       "      <td>Hirvonen, Mrs. Alexander (Helga E Lindqvist)</td>\n",
       "      <td>female</td>\n",
       "      <td>22.0</td>\n",
       "      <td>1</td>\n",
       "      <td>1</td>\n",
       "      <td>3101298</td>\n",
       "      <td>12.2875</td>\n",
       "      <td>NaN</td>\n",
       "      <td>S</td>\n",
       "    </tr>\n",
       "  </tbody>\n",
       "</table>\n",
       "</div>"
      ],
      "text/plain": [
       "   PassengerId  Pclass                                          Name     Sex  \\\n",
       "0          892       3                              Kelly, Mr. James    male   \n",
       "1          893       3              Wilkes, Mrs. James (Ellen Needs)  female   \n",
       "2          894       2                     Myles, Mr. Thomas Francis    male   \n",
       "3          895       3                              Wirz, Mr. Albert    male   \n",
       "4          896       3  Hirvonen, Mrs. Alexander (Helga E Lindqvist)  female   \n",
       "\n",
       "    Age  SibSp  Parch   Ticket     Fare Cabin Embarked  \n",
       "0  34.5      0      0   330911   7.8292   NaN        Q  \n",
       "1  47.0      1      0   363272   7.0000   NaN        S  \n",
       "2  62.0      0      0   240276   9.6875   NaN        Q  \n",
       "3  27.0      0      0   315154   8.6625   NaN        S  \n",
       "4  22.0      1      1  3101298  12.2875   NaN        S  "
      ]
     },
     "execution_count": 4,
     "metadata": {},
     "output_type": "execute_result"
    }
   ],
   "source": [
    "test.head()"
   ]
  },
  {
   "cell_type": "code",
   "execution_count": 5,
   "id": "5ec2bd7b",
   "metadata": {
    "execution": {
     "iopub.execute_input": "2023-10-15T08:54:12.409824Z",
     "iopub.status.busy": "2023-10-15T08:54:12.409113Z",
     "iopub.status.idle": "2023-10-15T08:54:12.415100Z",
     "shell.execute_reply": "2023-10-15T08:54:12.413749Z"
    },
    "papermill": {
     "duration": 0.026551,
     "end_time": "2023-10-15T08:54:12.417259",
     "exception": false,
     "start_time": "2023-10-15T08:54:12.390708",
     "status": "completed"
    },
    "tags": []
   },
   "outputs": [
    {
     "name": "stdout",
     "output_type": "stream",
     "text": [
      "(891, 12)\n",
      "(418, 11)\n"
     ]
    }
   ],
   "source": [
    "print(train.shape)\n",
    "print(test.shape)"
   ]
  },
  {
   "cell_type": "code",
   "execution_count": 6,
   "id": "98a6a462",
   "metadata": {
    "execution": {
     "iopub.execute_input": "2023-10-15T08:54:12.510989Z",
     "iopub.status.busy": "2023-10-15T08:54:12.510423Z",
     "iopub.status.idle": "2023-10-15T08:54:12.539274Z",
     "shell.execute_reply": "2023-10-15T08:54:12.537919Z"
    },
    "papermill": {
     "duration": 0.10804,
     "end_time": "2023-10-15T08:54:12.542393",
     "exception": false,
     "start_time": "2023-10-15T08:54:12.434353",
     "status": "completed"
    },
    "tags": []
   },
   "outputs": [
    {
     "name": "stdout",
     "output_type": "stream",
     "text": [
      "<class 'pandas.core.frame.DataFrame'>\n",
      "RangeIndex: 891 entries, 0 to 890\n",
      "Data columns (total 12 columns):\n",
      " #   Column       Non-Null Count  Dtype  \n",
      "---  ------       --------------  -----  \n",
      " 0   PassengerId  891 non-null    int64  \n",
      " 1   Survived     891 non-null    int64  \n",
      " 2   Pclass       891 non-null    int64  \n",
      " 3   Name         891 non-null    object \n",
      " 4   Sex          891 non-null    object \n",
      " 5   Age          714 non-null    float64\n",
      " 6   SibSp        891 non-null    int64  \n",
      " 7   Parch        891 non-null    int64  \n",
      " 8   Ticket       891 non-null    object \n",
      " 9   Fare         891 non-null    float64\n",
      " 10  Cabin        204 non-null    object \n",
      " 11  Embarked     889 non-null    object \n",
      "dtypes: float64(2), int64(5), object(5)\n",
      "memory usage: 83.7+ KB\n"
     ]
    }
   ],
   "source": [
    "train.info() "
   ]
  },
  {
   "cell_type": "code",
   "execution_count": 7,
   "id": "aa7bede1",
   "metadata": {
    "execution": {
     "iopub.execute_input": "2023-10-15T08:54:12.576959Z",
     "iopub.status.busy": "2023-10-15T08:54:12.576602Z",
     "iopub.status.idle": "2023-10-15T08:54:12.584050Z",
     "shell.execute_reply": "2023-10-15T08:54:12.583187Z"
    },
    "papermill": {
     "duration": 0.026702,
     "end_time": "2023-10-15T08:54:12.585962",
     "exception": false,
     "start_time": "2023-10-15T08:54:12.559260",
     "status": "completed"
    },
    "tags": []
   },
   "outputs": [
    {
     "data": {
      "text/plain": [
       "PassengerId      0\n",
       "Survived         0\n",
       "Pclass           0\n",
       "Name             0\n",
       "Sex              0\n",
       "Age            177\n",
       "SibSp            0\n",
       "Parch            0\n",
       "Ticket           0\n",
       "Fare             0\n",
       "Cabin          687\n",
       "Embarked         2\n",
       "dtype: int64"
      ]
     },
     "execution_count": 7,
     "metadata": {},
     "output_type": "execute_result"
    }
   ],
   "source": [
    "train.isnull().sum() #there is missing values at age, cabin and embarked columns"
   ]
  },
  {
   "cell_type": "code",
   "execution_count": 8,
   "id": "68123a19",
   "metadata": {
    "execution": {
     "iopub.execute_input": "2023-10-15T08:54:12.622408Z",
     "iopub.status.busy": "2023-10-15T08:54:12.621984Z",
     "iopub.status.idle": "2023-10-15T08:54:12.634052Z",
     "shell.execute_reply": "2023-10-15T08:54:12.632867Z"
    },
    "papermill": {
     "duration": 0.032709,
     "end_time": "2023-10-15T08:54:12.636510",
     "exception": false,
     "start_time": "2023-10-15T08:54:12.603801",
     "status": "completed"
    },
    "tags": []
   },
   "outputs": [
    {
     "name": "stdout",
     "output_type": "stream",
     "text": [
      "<class 'pandas.core.frame.DataFrame'>\n",
      "RangeIndex: 418 entries, 0 to 417\n",
      "Data columns (total 11 columns):\n",
      " #   Column       Non-Null Count  Dtype  \n",
      "---  ------       --------------  -----  \n",
      " 0   PassengerId  418 non-null    int64  \n",
      " 1   Pclass       418 non-null    int64  \n",
      " 2   Name         418 non-null    object \n",
      " 3   Sex          418 non-null    object \n",
      " 4   Age          332 non-null    float64\n",
      " 5   SibSp        418 non-null    int64  \n",
      " 6   Parch        418 non-null    int64  \n",
      " 7   Ticket       418 non-null    object \n",
      " 8   Fare         417 non-null    float64\n",
      " 9   Cabin        91 non-null     object \n",
      " 10  Embarked     418 non-null    object \n",
      "dtypes: float64(2), int64(4), object(5)\n",
      "memory usage: 36.0+ KB\n"
     ]
    }
   ],
   "source": [
    " test.info()"
   ]
  },
  {
   "cell_type": "code",
   "execution_count": 9,
   "id": "365c60ea",
   "metadata": {
    "execution": {
     "iopub.execute_input": "2023-10-15T08:54:12.671781Z",
     "iopub.status.busy": "2023-10-15T08:54:12.671427Z",
     "iopub.status.idle": "2023-10-15T08:54:12.680078Z",
     "shell.execute_reply": "2023-10-15T08:54:12.678998Z"
    },
    "papermill": {
     "duration": 0.028925,
     "end_time": "2023-10-15T08:54:12.682117",
     "exception": false,
     "start_time": "2023-10-15T08:54:12.653192",
     "status": "completed"
    },
    "tags": []
   },
   "outputs": [
    {
     "data": {
      "text/plain": [
       "PassengerId      0\n",
       "Pclass           0\n",
       "Name             0\n",
       "Sex              0\n",
       "Age             86\n",
       "SibSp            0\n",
       "Parch            0\n",
       "Ticket           0\n",
       "Fare             1\n",
       "Cabin          327\n",
       "Embarked         0\n",
       "dtype: int64"
      ]
     },
     "execution_count": 9,
     "metadata": {},
     "output_type": "execute_result"
    }
   ],
   "source": [
    " test.isnull().sum() #there is missing values at age, fare and cabin columns "
   ]
  },
  {
   "cell_type": "markdown",
   "id": "c92e147c",
   "metadata": {
    "papermill": {
     "duration": 0.016954,
     "end_time": "2023-10-15T08:54:12.715881",
     "exception": false,
     "start_time": "2023-10-15T08:54:12.698927",
     "status": "completed"
    },
    "tags": []
   },
   "source": [
    "# Visiualization"
   ]
  },
  {
   "cell_type": "code",
   "execution_count": 10,
   "id": "588afcd1",
   "metadata": {
    "execution": {
     "iopub.execute_input": "2023-10-15T08:54:12.752296Z",
     "iopub.status.busy": "2023-10-15T08:54:12.751918Z",
     "iopub.status.idle": "2023-10-15T08:54:12.757627Z",
     "shell.execute_reply": "2023-10-15T08:54:12.756470Z"
    },
    "papermill": {
     "duration": 0.026486,
     "end_time": "2023-10-15T08:54:12.759522",
     "exception": false,
     "start_time": "2023-10-15T08:54:12.733036",
     "status": "completed"
    },
    "tags": []
   },
   "outputs": [],
   "source": [
    "def barChart(feature):\n",
    "  surv = train[train['Survived']==1][feature].value_counts()\n",
    "  dead = train[train['Survived']==0][feature].value_counts()\n",
    "  df = pd.DataFrame([surv, dead])\n",
    "  df.index = ['Survived', 'Dead']\n",
    "  df.plot(kind = 'bar', stacked=True, figsize=(8,4))"
   ]
  },
  {
   "cell_type": "markdown",
   "id": "e8b1c2ca",
   "metadata": {
    "papermill": {
     "duration": 0.016436,
     "end_time": "2023-10-15T08:54:12.792506",
     "exception": false,
     "start_time": "2023-10-15T08:54:12.776070",
     "status": "completed"
    },
    "tags": []
   },
   "source": [
    "barChart function used for plotting survived and dead people based on given feature"
   ]
  },
  {
   "cell_type": "code",
   "execution_count": 11,
   "id": "0cb64bb9",
   "metadata": {
    "execution": {
     "iopub.execute_input": "2023-10-15T08:54:12.826924Z",
     "iopub.status.busy": "2023-10-15T08:54:12.826533Z",
     "iopub.status.idle": "2023-10-15T08:54:13.145372Z",
     "shell.execute_reply": "2023-10-15T08:54:13.144264Z"
    },
    "papermill": {
     "duration": 0.338679,
     "end_time": "2023-10-15T08:54:13.147539",
     "exception": false,
     "start_time": "2023-10-15T08:54:12.808860",
     "status": "completed"
    },
    "tags": []
   },
   "outputs": [
    {
     "data": {
      "image/png": "[encoded data removed]",
      "text/plain": [
       "<Figure size 800x400 with 1 Axes>"
      ]
     },
     "metadata": {},
     "output_type": "display_data"
    }
   ],
   "source": [
    "barChart('Sex') #most of survived people are females"
   ]
  },
  {
   "cell_type": "code",
   "execution_count": 12,
   "id": "5b027f44",
   "metadata": {
    "execution": {
     "iopub.execute_input": "2023-10-15T08:54:13.184724Z",
     "iopub.status.busy": "2023-10-15T08:54:13.184363Z",
     "iopub.status.idle": "2023-10-15T08:54:13.459220Z",
     "shell.execute_reply": "2023-10-15T08:54:13.458432Z"
    },
    "papermill": {
     "duration": 0.295964,
     "end_time": "2023-10-15T08:54:13.461097",
     "exception": false,
     "start_time": "2023-10-15T08:54:13.165133",
     "status": "completed"
    },
    "tags": []
   },
   "outputs": [
    {
     "data": {
      "image/png": "[encoded data removed]",
      "text/plain": [
       "<Figure size 800x400 with 1 Axes>"
      ]
     },
     "metadata": {},
     "output_type": "display_data"
    }
   ],
   "source": [
    "barChart('Pclass') #being in high class as class 1 has higher prob to survive"
   ]
  },
  {
   "cell_type": "code",
   "execution_count": 13,
   "id": "5bf21c8d",
   "metadata": {
    "execution": {
     "iopub.execute_input": "2023-10-15T08:54:13.497415Z",
     "iopub.status.busy": "2023-10-15T08:54:13.496588Z",
     "iopub.status.idle": "2023-10-15T08:54:13.823216Z",
     "shell.execute_reply": "2023-10-15T08:54:13.822075Z"
    },
    "papermill": {
     "duration": 0.347036,
     "end_time": "2023-10-15T08:54:13.825318",
     "exception": false,
     "start_time": "2023-10-15T08:54:13.478282",
     "status": "completed"
    },
    "tags": []
   },
   "outputs": [
    {
     "data": {
      "image/png": "[encoded data removed]",
      "text/plain": [
       "<Figure size 800x400 with 1 Axes>"
      ]
     },
     "metadata": {},
     "output_type": "display_data"
    }
   ],
   "source": [
    "barChart('SibSp') #having no siblings / spouses has higher prob to survive"
   ]
  },
  {
   "cell_type": "code",
   "execution_count": 14,
   "id": "24621f7f",
   "metadata": {
    "execution": {
     "iopub.execute_input": "2023-10-15T08:54:13.862898Z",
     "iopub.status.busy": "2023-10-15T08:54:13.861722Z",
     "iopub.status.idle": "2023-10-15T08:54:14.191920Z",
     "shell.execute_reply": "2023-10-15T08:54:14.190771Z"
    },
    "papermill": {
     "duration": 0.351353,
     "end_time": "2023-10-15T08:54:14.194195",
     "exception": false,
     "start_time": "2023-10-15T08:54:13.842842",
     "status": "completed"
    },
    "tags": []
   },
   "outputs": [
    {
     "data": {
      "image/png": "[encoded data removed]",
      "text/plain": [
       "<Figure size 800x400 with 1 Axes>"
      ]
     },
     "metadata": {},
     "output_type": "display_data"
    }
   ],
   "source": [
    "barChart('Parch') #has no parents / children has higher prob to survive "
   ]
  },
  {
   "cell_type": "code",
   "execution_count": 15,
   "id": "947f17ce",
   "metadata": {
    "execution": {
     "iopub.execute_input": "2023-10-15T08:54:14.232433Z",
     "iopub.status.busy": "2023-10-15T08:54:14.232057Z",
     "iopub.status.idle": "2023-10-15T08:54:14.504186Z",
     "shell.execute_reply": "2023-10-15T08:54:14.503021Z"
    },
    "papermill": {
     "duration": 0.293692,
     "end_time": "2023-10-15T08:54:14.506353",
     "exception": false,
     "start_time": "2023-10-15T08:54:14.212661",
     "status": "completed"
    },
    "tags": []
   },
   "outputs": [
    {
     "data": {
      "image/png": "[encoded data removed]",
      "text/plain": [
       "<Figure size 800x400 with 1 Axes>"
      ]
     },
     "metadata": {},
     "output_type": "display_data"
    }
   ],
   "source": [
    "barChart('Embarked') #being from Southampton has higher prob to survive "
   ]
  },
  {
   "cell_type": "code",
   "execution_count": 16,
   "id": "16341142",
   "metadata": {
    "execution": {
     "iopub.execute_input": "2023-10-15T08:54:14.545722Z",
     "iopub.status.busy": "2023-10-15T08:54:14.545366Z",
     "iopub.status.idle": "2023-10-15T08:54:14.886797Z",
     "shell.execute_reply": "2023-10-15T08:54:14.885679Z"
    },
    "papermill": {
     "duration": 0.363713,
     "end_time": "2023-10-15T08:54:14.889169",
     "exception": false,
     "start_time": "2023-10-15T08:54:14.525456",
     "status": "completed"
    },
    "tags": []
   },
   "outputs": [
    {
     "data": {
      "text/plain": [
       "<Axes: xlabel='Age'>"
      ]
     },
     "execution_count": 16,
     "metadata": {},
     "output_type": "execute_result"
    },
    {
     "data": {
      "image/png": "[encoded data removed]",
      "text/plain": [
       "<Figure size 640x480 with 1 Axes>"
      ]
     },
     "metadata": {},
     "output_type": "display_data"
    }
   ],
   "source": [
    "#Outliers\n",
    "sns.boxplot(x='Age', data = train)\n",
    "sns.stripplot(x='Age', data = train, color = 'black')"
   ]
  },
  {
   "cell_type": "code",
   "execution_count": 17,
   "id": "2e5df207",
   "metadata": {
    "execution": {
     "iopub.execute_input": "2023-10-15T08:54:14.932278Z",
     "iopub.status.busy": "2023-10-15T08:54:14.931611Z",
     "iopub.status.idle": "2023-10-15T08:54:15.280447Z",
     "shell.execute_reply": "2023-10-15T08:54:15.279362Z"
    },
    "papermill": {
     "duration": 0.374117,
     "end_time": "2023-10-15T08:54:15.283061",
     "exception": false,
     "start_time": "2023-10-15T08:54:14.908944",
     "status": "completed"
    },
    "tags": []
   },
   "outputs": [
    {
     "data": {
      "text/plain": [
       "<Axes: xlabel='Pclass'>"
      ]
     },
     "execution_count": 17,
     "metadata": {},
     "output_type": "execute_result"
    },
    {
     "data": {
      "image/png": "[encoded data removed]",
      "text/plain": [
       "<Figure size 640x480 with 1 Axes>"
      ]
     },
     "metadata": {},
     "output_type": "display_data"
    }
   ],
   "source": [
    "sns.boxplot(x='Pclass', data = train)\n",
    "sns.stripplot(x='Pclass', data = train, color = 'black')"
   ]
  },
  {
   "cell_type": "markdown",
   "id": "15a78087",
   "metadata": {
    "papermill": {
     "duration": 0.033137,
     "end_time": "2023-10-15T08:54:15.339719",
     "exception": false,
     "start_time": "2023-10-15T08:54:15.306582",
     "status": "completed"
    },
    "tags": []
   },
   "source": [
    "# Modifying Categorical Columns "
   ]
  },
  {
   "cell_type": "code",
   "execution_count": 18,
   "id": "1bd7dcbc",
   "metadata": {
    "execution": {
     "iopub.execute_input": "2023-10-15T08:54:15.400674Z",
     "iopub.status.busy": "2023-10-15T08:54:15.398970Z",
     "iopub.status.idle": "2023-10-15T08:54:15.411855Z",
     "shell.execute_reply": "2023-10-15T08:54:15.410687Z"
    },
    "papermill": {
     "duration": 0.043812,
     "end_time": "2023-10-15T08:54:15.414242",
     "exception": false,
     "start_time": "2023-10-15T08:54:15.370430",
     "status": "completed"
    },
    "tags": []
   },
   "outputs": [],
   "source": [
    "# modifying name column\n",
    "data = [train, test]\n",
    "for dataset in data :\n",
    "  dataset['Title'] = dataset['Name'].str.extract(' ([A-Za-z]+)\\.', expand=False) # extract only the title of each name record "
   ]
  },
  {
   "cell_type": "code",
   "execution_count": 19,
   "id": "693701ac",
   "metadata": {
    "execution": {
     "iopub.execute_input": "2023-10-15T08:54:15.456699Z",
     "iopub.status.busy": "2023-10-15T08:54:15.456338Z",
     "iopub.status.idle": "2023-10-15T08:54:15.464277Z",
     "shell.execute_reply": "2023-10-15T08:54:15.463330Z"
    },
    "papermill": {
     "duration": 0.032135,
     "end_time": "2023-10-15T08:54:15.466551",
     "exception": false,
     "start_time": "2023-10-15T08:54:15.434416",
     "status": "completed"
    },
    "tags": []
   },
   "outputs": [
    {
     "data": {
      "text/plain": [
       "Title\n",
       "Mr          517\n",
       "Miss        182\n",
       "Mrs         125\n",
       "Master       40\n",
       "Dr            7\n",
       "Rev           6\n",
       "Mlle          2\n",
       "Major         2\n",
       "Col           2\n",
       "Countess      1\n",
       "Capt          1\n",
       "Ms            1\n",
       "Sir           1\n",
       "Lady          1\n",
       "Mme           1\n",
       "Don           1\n",
       "Jonkheer      1\n",
       "Name: count, dtype: int64"
      ]
     },
     "execution_count": 19,
     "metadata": {},
     "output_type": "execute_result"
    }
   ],
   "source": [
    "train['Title'].value_counts() #counts the titles we got "
   ]
  },
  {
   "cell_type": "code",
   "execution_count": 20,
   "id": "def85600",
   "metadata": {
    "execution": {
     "iopub.execute_input": "2023-10-15T08:54:15.511097Z",
     "iopub.status.busy": "2023-10-15T08:54:15.510638Z",
     "iopub.status.idle": "2023-10-15T08:54:15.518374Z",
     "shell.execute_reply": "2023-10-15T08:54:15.517254Z"
    },
    "papermill": {
     "duration": 0.034692,
     "end_time": "2023-10-15T08:54:15.521388",
     "exception": false,
     "start_time": "2023-10-15T08:54:15.486696",
     "status": "completed"
    },
    "tags": []
   },
   "outputs": [
    {
     "data": {
      "text/plain": [
       "Title\n",
       "Mr        240\n",
       "Miss       78\n",
       "Mrs        72\n",
       "Master     21\n",
       "Col         2\n",
       "Rev         2\n",
       "Ms          1\n",
       "Dr          1\n",
       "Dona        1\n",
       "Name: count, dtype: int64"
      ]
     },
     "execution_count": 20,
     "metadata": {},
     "output_type": "execute_result"
    }
   ],
   "source": [
    "test['Title'].value_counts()"
   ]
  },
  {
   "cell_type": "code",
   "execution_count": 21,
   "id": "0ce98c53",
   "metadata": {
    "execution": {
     "iopub.execute_input": "2023-10-15T08:54:15.569584Z",
     "iopub.status.busy": "2023-10-15T08:54:15.568324Z",
     "iopub.status.idle": "2023-10-15T08:54:15.578605Z",
     "shell.execute_reply": "2023-10-15T08:54:15.577555Z"
    },
    "papermill": {
     "duration": 0.037666,
     "end_time": "2023-10-15T08:54:15.580946",
     "exception": false,
     "start_time": "2023-10-15T08:54:15.543280",
     "status": "completed"
    },
    "tags": []
   },
   "outputs": [],
   "source": [
    "# replacing each title with a number\n",
    "titleMapping = {\"Mr\": 0, \"Miss\": 1,\"Mrs\": 2, \"Master\": 3, \"Col\" : 3, \"Rev\": 3, \"Ms\" : 3, \"Dr\" : 3, \"Dona\" : 3,\n",
    "                 \"Mlle\":3, \"Countess\" :3, \"Capt\":3, \"Jonkheer\":3, \"Don\":3, \"Mme\":3, \"Lady\":3, \"Sir\":3, \"Major\" :3}\n",
    "for dataset in data :\n",
    "  dataset['Title'] = dataset['Title'].map(titleMapping)"
   ]
  },
  {
   "cell_type": "code",
   "execution_count": 22,
   "id": "90654677",
   "metadata": {
    "execution": {
     "iopub.execute_input": "2023-10-15T08:54:15.623167Z",
     "iopub.status.busy": "2023-10-15T08:54:15.622489Z",
     "iopub.status.idle": "2023-10-15T08:54:15.635116Z",
     "shell.execute_reply": "2023-10-15T08:54:15.634380Z"
    },
    "papermill": {
     "duration": 0.035161,
     "end_time": "2023-10-15T08:54:15.637171",
     "exception": false,
     "start_time": "2023-10-15T08:54:15.602010",
     "status": "completed"
    },
    "tags": []
   },
   "outputs": [
    {
     "data": {
      "text/html": [
       "<div>\n",
       "<style scoped>\n",
       "    .dataframe tbody tr th:only-of-type {\n",
       "        vertical-align: middle;\n",
       "    }\n",
       "\n",
       "    .dataframe tbody tr th {\n",
       "        vertical-align: top;\n",
       "    }\n",
       "\n",
       "    .dataframe thead th {\n",
       "        text-align: right;\n",
       "    }\n",
       "</style>\n",
       "<table border=\"1\" class=\"dataframe\">\n",
       "  <thead>\n",
       "    <tr style=\"text-align: right;\">\n",
       "      <th></th>\n",
       "      <th>PassengerId</th>\n",
       "      <th>Survived</th>\n",
       "      <th>Pclass</th>\n",
       "      <th>Name</th>\n",
       "      <th>Sex</th>\n",
       "      <th>Age</th>\n",
       "      <th>SibSp</th>\n",
       "      <th>Parch</th>\n",
       "      <th>Ticket</th>\n",
       "      <th>Fare</th>\n",
       "      <th>Cabin</th>\n",
       "      <th>Embarked</th>\n",
       "      <th>Title</th>\n",
       "    </tr>\n",
       "  </thead>\n",
       "  <tbody>\n",
       "    <tr>\n",
       "      <th>0</th>\n",
       "      <td>1</td>\n",
       "      <td>0</td>\n",
       "      <td>3</td>\n",
       "      <td>Braund, Mr. Owen Harris</td>\n",
       "      <td>male</td>\n",
       "      <td>22.0</td>\n",
       "      <td>1</td>\n",
       "      <td>0</td>\n",
       "      <td>A/5 21171</td>\n",
       "      <td>7.2500</td>\n",
       "      <td>NaN</td>\n",
       "      <td>S</td>\n",
       "      <td>0</td>\n",
       "    </tr>\n",
       "    <tr>\n",
       "      <th>1</th>\n",
       "      <td>2</td>\n",
       "      <td>1</td>\n",
       "      <td>1</td>\n",
       "      <td>Cumings, Mrs. John Bradley (Florence Briggs Th...</td>\n",
       "      <td>female</td>\n",
       "      <td>38.0</td>\n",
       "      <td>1</td>\n",
       "      <td>0</td>\n",
       "      <td>PC 17599</td>\n",
       "      <td>71.2833</td>\n",
       "      <td>C85</td>\n",
       "      <td>C</td>\n",
       "      <td>2</td>\n",
       "    </tr>\n",
       "  </tbody>\n",
       "</table>\n",
       "</div>"
      ],
      "text/plain": [
       "   PassengerId  Survived  Pclass  \\\n",
       "0            1         0       3   \n",
       "1            2         1       1   \n",
       "\n",
       "                                                Name     Sex   Age  SibSp  \\\n",
       "0                            Braund, Mr. Owen Harris    male  22.0      1   \n",
       "1  Cumings, Mrs. John Bradley (Florence Briggs Th...  female  38.0      1   \n",
       "\n",
       "   Parch     Ticket     Fare Cabin Embarked  Title  \n",
       "0      0  A/5 21171   7.2500   NaN        S      0  \n",
       "1      0   PC 17599  71.2833   C85        C      2  "
      ]
     },
     "execution_count": 22,
     "metadata": {},
     "output_type": "execute_result"
    }
   ],
   "source": [
    "train.head(2)"
   ]
  },
  {
   "cell_type": "code",
   "execution_count": 23,
   "id": "530a56c1",
   "metadata": {
    "execution": {
     "iopub.execute_input": "2023-10-15T08:54:15.677453Z",
     "iopub.status.busy": "2023-10-15T08:54:15.677094Z",
     "iopub.status.idle": "2023-10-15T08:54:15.690580Z",
     "shell.execute_reply": "2023-10-15T08:54:15.689552Z"
    },
    "papermill": {
     "duration": 0.036255,
     "end_time": "2023-10-15T08:54:15.692680",
     "exception": false,
     "start_time": "2023-10-15T08:54:15.656425",
     "status": "completed"
    },
    "tags": []
   },
   "outputs": [
    {
     "data": {
      "text/html": [
       "<div>\n",
       "<style scoped>\n",
       "    .dataframe tbody tr th:only-of-type {\n",
       "        vertical-align: middle;\n",
       "    }\n",
       "\n",
       "    .dataframe tbody tr th {\n",
       "        vertical-align: top;\n",
       "    }\n",
       "\n",
       "    .dataframe thead th {\n",
       "        text-align: right;\n",
       "    }\n",
       "</style>\n",
       "<table border=\"1\" class=\"dataframe\">\n",
       "  <thead>\n",
       "    <tr style=\"text-align: right;\">\n",
       "      <th></th>\n",
       "      <th>PassengerId</th>\n",
       "      <th>Pclass</th>\n",
       "      <th>Name</th>\n",
       "      <th>Sex</th>\n",
       "      <th>Age</th>\n",
       "      <th>SibSp</th>\n",
       "      <th>Parch</th>\n",
       "      <th>Ticket</th>\n",
       "      <th>Fare</th>\n",
       "      <th>Cabin</th>\n",
       "      <th>Embarked</th>\n",
       "      <th>Title</th>\n",
       "    </tr>\n",
       "  </thead>\n",
       "  <tbody>\n",
       "    <tr>\n",
       "      <th>0</th>\n",
       "      <td>892</td>\n",
       "      <td>3</td>\n",
       "      <td>Kelly, Mr. James</td>\n",
       "      <td>male</td>\n",
       "      <td>34.5</td>\n",
       "      <td>0</td>\n",
       "      <td>0</td>\n",
       "      <td>330911</td>\n",
       "      <td>7.8292</td>\n",
       "      <td>NaN</td>\n",
       "      <td>Q</td>\n",
       "      <td>0</td>\n",
       "    </tr>\n",
       "    <tr>\n",
       "      <th>1</th>\n",
       "      <td>893</td>\n",
       "      <td>3</td>\n",
       "      <td>Wilkes, Mrs. James (Ellen Needs)</td>\n",
       "      <td>female</td>\n",
       "      <td>47.0</td>\n",
       "      <td>1</td>\n",
       "      <td>0</td>\n",
       "      <td>363272</td>\n",
       "      <td>7.0000</td>\n",
       "      <td>NaN</td>\n",
       "      <td>S</td>\n",
       "      <td>2</td>\n",
       "    </tr>\n",
       "  </tbody>\n",
       "</table>\n",
       "</div>"
      ],
      "text/plain": [
       "   PassengerId  Pclass                              Name     Sex   Age  SibSp  \\\n",
       "0          892       3                  Kelly, Mr. James    male  34.5      0   \n",
       "1          893       3  Wilkes, Mrs. James (Ellen Needs)  female  47.0      1   \n",
       "\n",
       "   Parch  Ticket    Fare Cabin Embarked  Title  \n",
       "0      0  330911  7.8292   NaN        Q      0  \n",
       "1      0  363272  7.0000   NaN        S      2  "
      ]
     },
     "execution_count": 23,
     "metadata": {},
     "output_type": "execute_result"
    }
   ],
   "source": [
    "test.head(2)"
   ]
  },
  {
   "cell_type": "code",
   "execution_count": 24,
   "id": "764fc251",
   "metadata": {
    "execution": {
     "iopub.execute_input": "2023-10-15T08:54:15.734787Z",
     "iopub.status.busy": "2023-10-15T08:54:15.734426Z",
     "iopub.status.idle": "2023-10-15T08:54:15.741196Z",
     "shell.execute_reply": "2023-10-15T08:54:15.740409Z"
    },
    "papermill": {
     "duration": 0.030442,
     "end_time": "2023-10-15T08:54:15.743109",
     "exception": false,
     "start_time": "2023-10-15T08:54:15.712667",
     "status": "completed"
    },
    "tags": []
   },
   "outputs": [],
   "source": [
    "train.drop('Name', axis =1, inplace= True)\n",
    "test.drop('Name', axis =1, inplace= True)"
   ]
  },
  {
   "cell_type": "code",
   "execution_count": 25,
   "id": "23576837",
   "metadata": {
    "execution": {
     "iopub.execute_input": "2023-10-15T08:54:15.783757Z",
     "iopub.status.busy": "2023-10-15T08:54:15.783410Z",
     "iopub.status.idle": "2023-10-15T08:54:16.176509Z",
     "shell.execute_reply": "2023-10-15T08:54:16.175414Z"
    },
    "papermill": {
     "duration": 0.416226,
     "end_time": "2023-10-15T08:54:16.179018",
     "exception": false,
     "start_time": "2023-10-15T08:54:15.762792",
     "status": "completed"
    },
    "tags": []
   },
   "outputs": [
    {
     "data": {
      "image/png": "[encoded data removed]",
      "text/plain": [
       "<Figure size 800x400 with 1 Axes>"
      ]
     },
     "metadata": {},
     "output_type": "display_data"
    }
   ],
   "source": [
    "barChart('Title')"
   ]
  },
  {
   "cell_type": "code",
   "execution_count": 26,
   "id": "99725ebe",
   "metadata": {
    "execution": {
     "iopub.execute_input": "2023-10-15T08:54:16.220957Z",
     "iopub.status.busy": "2023-10-15T08:54:16.219929Z",
     "iopub.status.idle": "2023-10-15T08:54:16.232636Z",
     "shell.execute_reply": "2023-10-15T08:54:16.231503Z"
    },
    "papermill": {
     "duration": 0.035863,
     "end_time": "2023-10-15T08:54:16.234705",
     "exception": false,
     "start_time": "2023-10-15T08:54:16.198842",
     "status": "completed"
    },
    "tags": []
   },
   "outputs": [
    {
     "data": {
      "text/html": [
       "<div>\n",
       "<style scoped>\n",
       "    .dataframe tbody tr th:only-of-type {\n",
       "        vertical-align: middle;\n",
       "    }\n",
       "\n",
       "    .dataframe tbody tr th {\n",
       "        vertical-align: top;\n",
       "    }\n",
       "\n",
       "    .dataframe thead th {\n",
       "        text-align: right;\n",
       "    }\n",
       "</style>\n",
       "<table border=\"1\" class=\"dataframe\">\n",
       "  <thead>\n",
       "    <tr style=\"text-align: right;\">\n",
       "      <th></th>\n",
       "      <th>Sex</th>\n",
       "      <th>Sex2</th>\n",
       "    </tr>\n",
       "  </thead>\n",
       "  <tbody>\n",
       "    <tr>\n",
       "      <th>0</th>\n",
       "      <td>male</td>\n",
       "      <td>0</td>\n",
       "    </tr>\n",
       "    <tr>\n",
       "      <th>1</th>\n",
       "      <td>female</td>\n",
       "      <td>1</td>\n",
       "    </tr>\n",
       "    <tr>\n",
       "      <th>2</th>\n",
       "      <td>female</td>\n",
       "      <td>1</td>\n",
       "    </tr>\n",
       "    <tr>\n",
       "      <th>3</th>\n",
       "      <td>female</td>\n",
       "      <td>1</td>\n",
       "    </tr>\n",
       "    <tr>\n",
       "      <th>4</th>\n",
       "      <td>male</td>\n",
       "      <td>0</td>\n",
       "    </tr>\n",
       "  </tbody>\n",
       "</table>\n",
       "</div>"
      ],
      "text/plain": [
       "      Sex Sex2\n",
       "0    male    0\n",
       "1  female    1\n",
       "2  female    1\n",
       "3  female    1\n",
       "4    male    0"
      ]
     },
     "execution_count": 26,
     "metadata": {},
     "output_type": "execute_result"
    }
   ],
   "source": [
    "#modifying sex column \n",
    "train['Sex2'] = train['Sex'].map({'male': '0', 'female': '1'})\n",
    "test['Sex2'] = test['Sex'].map({'male': '0', 'female': '1'})\n",
    "train[['Sex', 'Sex2']].head()"
   ]
  },
  {
   "cell_type": "code",
   "execution_count": 27,
   "id": "48349feb",
   "metadata": {
    "execution": {
     "iopub.execute_input": "2023-10-15T08:54:16.276246Z",
     "iopub.status.busy": "2023-10-15T08:54:16.275867Z",
     "iopub.status.idle": "2023-10-15T08:54:16.282774Z",
     "shell.execute_reply": "2023-10-15T08:54:16.281643Z"
    },
    "papermill": {
     "duration": 0.03041,
     "end_time": "2023-10-15T08:54:16.285029",
     "exception": false,
     "start_time": "2023-10-15T08:54:16.254619",
     "status": "completed"
    },
    "tags": []
   },
   "outputs": [],
   "source": [
    "train['Sex2'] = train['Sex2'].astype(int)\n",
    "test['Sex2'] = test['Sex2'].astype(int)"
   ]
  },
  {
   "cell_type": "code",
   "execution_count": 28,
   "id": "20abfd88",
   "metadata": {
    "execution": {
     "iopub.execute_input": "2023-10-15T08:54:16.328450Z",
     "iopub.status.busy": "2023-10-15T08:54:16.328063Z",
     "iopub.status.idle": "2023-10-15T08:54:16.336260Z",
     "shell.execute_reply": "2023-10-15T08:54:16.334933Z"
    },
    "papermill": {
     "duration": 0.033509,
     "end_time": "2023-10-15T08:54:16.338557",
     "exception": false,
     "start_time": "2023-10-15T08:54:16.305048",
     "status": "completed"
    },
    "tags": []
   },
   "outputs": [],
   "source": [
    "train.drop('Sex', axis =1, inplace= True)\n",
    "test.drop('Sex', axis =1, inplace= True)"
   ]
  },
  {
   "cell_type": "code",
   "execution_count": 29,
   "id": "8f576b9f",
   "metadata": {
    "execution": {
     "iopub.execute_input": "2023-10-15T08:54:16.381570Z",
     "iopub.status.busy": "2023-10-15T08:54:16.381125Z",
     "iopub.status.idle": "2023-10-15T08:54:16.644675Z",
     "shell.execute_reply": "2023-10-15T08:54:16.643831Z"
    },
    "papermill": {
     "duration": 0.287965,
     "end_time": "2023-10-15T08:54:16.646606",
     "exception": false,
     "start_time": "2023-10-15T08:54:16.358641",
     "status": "completed"
    },
    "tags": []
   },
   "outputs": [
    {
     "data": {
      "image/png": "[encoded data removed]",
      "text/plain": [
       "<Figure size 800x400 with 1 Axes>"
      ]
     },
     "metadata": {},
     "output_type": "display_data"
    }
   ],
   "source": [
    "barChart('Sex2')"
   ]
  },
  {
   "cell_type": "code",
   "execution_count": 30,
   "id": "c6bf5d3e",
   "metadata": {
    "execution": {
     "iopub.execute_input": "2023-10-15T08:54:16.690575Z",
     "iopub.status.busy": "2023-10-15T08:54:16.689784Z",
     "iopub.status.idle": "2023-10-15T08:54:16.698771Z",
     "shell.execute_reply": "2023-10-15T08:54:16.697914Z"
    },
    "papermill": {
     "duration": 0.034054,
     "end_time": "2023-10-15T08:54:16.701105",
     "exception": false,
     "start_time": "2023-10-15T08:54:16.667051",
     "status": "completed"
    },
    "tags": []
   },
   "outputs": [],
   "source": [
    "#modifying the age as replacing missing values with median value\n",
    "train[\"Age\"].fillna(train.groupby('Pclass')[\"Age\"].transform(\"median\"), inplace = True)\n",
    "test[\"Age\"].fillna(test.groupby('Pclass')[\"Age\"].transform(\"median\"), inplace = True)"
   ]
  },
  {
   "cell_type": "code",
   "execution_count": 31,
   "id": "e288612b",
   "metadata": {
    "execution": {
     "iopub.execute_input": "2023-10-15T08:54:16.744648Z",
     "iopub.status.busy": "2023-10-15T08:54:16.744078Z",
     "iopub.status.idle": "2023-10-15T08:54:16.758603Z",
     "shell.execute_reply": "2023-10-15T08:54:16.757568Z"
    },
    "papermill": {
     "duration": 0.039332,
     "end_time": "2023-10-15T08:54:16.761009",
     "exception": false,
     "start_time": "2023-10-15T08:54:16.721677",
     "status": "completed"
    },
    "tags": []
   },
   "outputs": [
    {
     "data": {
      "text/html": [
       "<div>\n",
       "<style scoped>\n",
       "    .dataframe tbody tr th:only-of-type {\n",
       "        vertical-align: middle;\n",
       "    }\n",
       "\n",
       "    .dataframe tbody tr th {\n",
       "        vertical-align: top;\n",
       "    }\n",
       "\n",
       "    .dataframe thead th {\n",
       "        text-align: right;\n",
       "    }\n",
       "</style>\n",
       "<table border=\"1\" class=\"dataframe\">\n",
       "  <thead>\n",
       "    <tr style=\"text-align: right;\">\n",
       "      <th></th>\n",
       "      <th>PassengerId</th>\n",
       "      <th>Survived</th>\n",
       "      <th>Pclass</th>\n",
       "      <th>Age</th>\n",
       "      <th>SibSp</th>\n",
       "      <th>Parch</th>\n",
       "      <th>Ticket</th>\n",
       "      <th>Fare</th>\n",
       "      <th>Cabin</th>\n",
       "      <th>Embarked</th>\n",
       "      <th>Title</th>\n",
       "      <th>Sex2</th>\n",
       "    </tr>\n",
       "  </thead>\n",
       "  <tbody>\n",
       "    <tr>\n",
       "      <th>0</th>\n",
       "      <td>1</td>\n",
       "      <td>0</td>\n",
       "      <td>3</td>\n",
       "      <td>22.0</td>\n",
       "      <td>1</td>\n",
       "      <td>0</td>\n",
       "      <td>A/5 21171</td>\n",
       "      <td>7.2500</td>\n",
       "      <td>NaN</td>\n",
       "      <td>S</td>\n",
       "      <td>0</td>\n",
       "      <td>0</td>\n",
       "    </tr>\n",
       "    <tr>\n",
       "      <th>1</th>\n",
       "      <td>2</td>\n",
       "      <td>1</td>\n",
       "      <td>1</td>\n",
       "      <td>38.0</td>\n",
       "      <td>1</td>\n",
       "      <td>0</td>\n",
       "      <td>PC 17599</td>\n",
       "      <td>71.2833</td>\n",
       "      <td>C85</td>\n",
       "      <td>C</td>\n",
       "      <td>2</td>\n",
       "      <td>1</td>\n",
       "    </tr>\n",
       "    <tr>\n",
       "      <th>2</th>\n",
       "      <td>3</td>\n",
       "      <td>1</td>\n",
       "      <td>3</td>\n",
       "      <td>26.0</td>\n",
       "      <td>0</td>\n",
       "      <td>0</td>\n",
       "      <td>STON/O2. 3101282</td>\n",
       "      <td>7.9250</td>\n",
       "      <td>NaN</td>\n",
       "      <td>S</td>\n",
       "      <td>1</td>\n",
       "      <td>1</td>\n",
       "    </tr>\n",
       "    <tr>\n",
       "      <th>3</th>\n",
       "      <td>4</td>\n",
       "      <td>1</td>\n",
       "      <td>1</td>\n",
       "      <td>35.0</td>\n",
       "      <td>1</td>\n",
       "      <td>0</td>\n",
       "      <td>113803</td>\n",
       "      <td>53.1000</td>\n",
       "      <td>C123</td>\n",
       "      <td>S</td>\n",
       "      <td>2</td>\n",
       "      <td>1</td>\n",
       "    </tr>\n",
       "    <tr>\n",
       "      <th>4</th>\n",
       "      <td>5</td>\n",
       "      <td>0</td>\n",
       "      <td>3</td>\n",
       "      <td>35.0</td>\n",
       "      <td>0</td>\n",
       "      <td>0</td>\n",
       "      <td>373450</td>\n",
       "      <td>8.0500</td>\n",
       "      <td>NaN</td>\n",
       "      <td>S</td>\n",
       "      <td>0</td>\n",
       "      <td>0</td>\n",
       "    </tr>\n",
       "    <tr>\n",
       "      <th>5</th>\n",
       "      <td>6</td>\n",
       "      <td>0</td>\n",
       "      <td>3</td>\n",
       "      <td>24.0</td>\n",
       "      <td>0</td>\n",
       "      <td>0</td>\n",
       "      <td>330877</td>\n",
       "      <td>8.4583</td>\n",
       "      <td>NaN</td>\n",
       "      <td>Q</td>\n",
       "      <td>0</td>\n",
       "      <td>0</td>\n",
       "    </tr>\n",
       "    <tr>\n",
       "      <th>6</th>\n",
       "      <td>7</td>\n",
       "      <td>0</td>\n",
       "      <td>1</td>\n",
       "      <td>54.0</td>\n",
       "      <td>0</td>\n",
       "      <td>0</td>\n",
       "      <td>17463</td>\n",
       "      <td>51.8625</td>\n",
       "      <td>E46</td>\n",
       "      <td>S</td>\n",
       "      <td>0</td>\n",
       "      <td>0</td>\n",
       "    </tr>\n",
       "    <tr>\n",
       "      <th>7</th>\n",
       "      <td>8</td>\n",
       "      <td>0</td>\n",
       "      <td>3</td>\n",
       "      <td>2.0</td>\n",
       "      <td>3</td>\n",
       "      <td>1</td>\n",
       "      <td>349909</td>\n",
       "      <td>21.0750</td>\n",
       "      <td>NaN</td>\n",
       "      <td>S</td>\n",
       "      <td>3</td>\n",
       "      <td>0</td>\n",
       "    </tr>\n",
       "    <tr>\n",
       "      <th>8</th>\n",
       "      <td>9</td>\n",
       "      <td>1</td>\n",
       "      <td>3</td>\n",
       "      <td>27.0</td>\n",
       "      <td>0</td>\n",
       "      <td>2</td>\n",
       "      <td>347742</td>\n",
       "      <td>11.1333</td>\n",
       "      <td>NaN</td>\n",
       "      <td>S</td>\n",
       "      <td>2</td>\n",
       "      <td>1</td>\n",
       "    </tr>\n",
       "    <tr>\n",
       "      <th>9</th>\n",
       "      <td>10</td>\n",
       "      <td>1</td>\n",
       "      <td>2</td>\n",
       "      <td>14.0</td>\n",
       "      <td>1</td>\n",
       "      <td>0</td>\n",
       "      <td>237736</td>\n",
       "      <td>30.0708</td>\n",
       "      <td>NaN</td>\n",
       "      <td>C</td>\n",
       "      <td>2</td>\n",
       "      <td>1</td>\n",
       "    </tr>\n",
       "  </tbody>\n",
       "</table>\n",
       "</div>"
      ],
      "text/plain": [
       "   PassengerId  Survived  Pclass   Age  SibSp  Parch            Ticket  \\\n",
       "0            1         0       3  22.0      1      0         A/5 21171   \n",
       "1            2         1       1  38.0      1      0          PC 17599   \n",
       "2            3         1       3  26.0      0      0  STON/O2. 3101282   \n",
       "3            4         1       1  35.0      1      0            113803   \n",
       "4            5         0       3  35.0      0      0            373450   \n",
       "5            6         0       3  24.0      0      0            330877   \n",
       "6            7         0       1  54.0      0      0             17463   \n",
       "7            8         0       3   2.0      3      1            349909   \n",
       "8            9         1       3  27.0      0      2            347742   \n",
       "9           10         1       2  14.0      1      0            237736   \n",
       "\n",
       "      Fare Cabin Embarked  Title  Sex2  \n",
       "0   7.2500   NaN        S      0     0  \n",
       "1  71.2833   C85        C      2     1  \n",
       "2   7.9250   NaN        S      1     1  \n",
       "3  53.1000  C123        S      2     1  \n",
       "4   8.0500   NaN        S      0     0  \n",
       "5   8.4583   NaN        Q      0     0  \n",
       "6  51.8625   E46        S      0     0  \n",
       "7  21.0750   NaN        S      3     0  \n",
       "8  11.1333   NaN        S      2     1  \n",
       "9  30.0708   NaN        C      2     1  "
      ]
     },
     "execution_count": 31,
     "metadata": {},
     "output_type": "execute_result"
    }
   ],
   "source": [
    "train.head(10)"
   ]
  },
  {
   "cell_type": "code",
   "execution_count": 32,
   "id": "45457c76",
   "metadata": {
    "execution": {
     "iopub.execute_input": "2023-10-15T08:54:16.805002Z",
     "iopub.status.busy": "2023-10-15T08:54:16.804629Z",
     "iopub.status.idle": "2023-10-15T08:54:16.811284Z",
     "shell.execute_reply": "2023-10-15T08:54:16.810147Z"
    },
    "papermill": {
     "duration": 0.031196,
     "end_time": "2023-10-15T08:54:16.813349",
     "exception": false,
     "start_time": "2023-10-15T08:54:16.782153",
     "status": "completed"
    },
    "tags": []
   },
   "outputs": [
    {
     "name": "stdout",
     "output_type": "stream",
     "text": [
      "0.7710437710437711\n",
      "0.7822966507177034\n"
     ]
    }
   ],
   "source": [
    "#modifying cabin volumn \n",
    "print(train.Cabin.isnull().sum() / len(train))\n",
    "print(test.Cabin.isnull().sum() / len(test)) #almost 80% of data is missing"
   ]
  },
  {
   "cell_type": "code",
   "execution_count": 33,
   "id": "207c4585",
   "metadata": {
    "execution": {
     "iopub.execute_input": "2023-10-15T08:54:16.856261Z",
     "iopub.status.busy": "2023-10-15T08:54:16.855859Z",
     "iopub.status.idle": "2023-10-15T08:54:16.862999Z",
     "shell.execute_reply": "2023-10-15T08:54:16.861948Z"
    },
    "papermill": {
     "duration": 0.030987,
     "end_time": "2023-10-15T08:54:16.865088",
     "exception": false,
     "start_time": "2023-10-15T08:54:16.834101",
     "status": "completed"
    },
    "tags": []
   },
   "outputs": [],
   "source": [
    "train.drop('Cabin', axis =1, inplace= True)\n",
    "test.drop('Cabin', axis =1, inplace= True)"
   ]
  },
  {
   "cell_type": "code",
   "execution_count": 34,
   "id": "eea2972c",
   "metadata": {
    "execution": {
     "iopub.execute_input": "2023-10-15T08:54:16.910515Z",
     "iopub.status.busy": "2023-10-15T08:54:16.909883Z",
     "iopub.status.idle": "2023-10-15T08:54:16.921943Z",
     "shell.execute_reply": "2023-10-15T08:54:16.921028Z"
    },
    "papermill": {
     "duration": 0.037466,
     "end_time": "2023-10-15T08:54:16.924033",
     "exception": false,
     "start_time": "2023-10-15T08:54:16.886567",
     "status": "completed"
    },
    "tags": []
   },
   "outputs": [
    {
     "data": {
      "text/html": [
       "<div>\n",
       "<style scoped>\n",
       "    .dataframe tbody tr th:only-of-type {\n",
       "        vertical-align: middle;\n",
       "    }\n",
       "\n",
       "    .dataframe tbody tr th {\n",
       "        vertical-align: top;\n",
       "    }\n",
       "\n",
       "    .dataframe thead th {\n",
       "        text-align: right;\n",
       "    }\n",
       "</style>\n",
       "<table border=\"1\" class=\"dataframe\">\n",
       "  <thead>\n",
       "    <tr style=\"text-align: right;\">\n",
       "      <th></th>\n",
       "      <th>PassengerId</th>\n",
       "      <th>Survived</th>\n",
       "      <th>Pclass</th>\n",
       "      <th>Age</th>\n",
       "      <th>SibSp</th>\n",
       "      <th>Parch</th>\n",
       "      <th>Ticket</th>\n",
       "      <th>Fare</th>\n",
       "      <th>Embarked</th>\n",
       "      <th>Title</th>\n",
       "      <th>Sex2</th>\n",
       "    </tr>\n",
       "  </thead>\n",
       "  <tbody>\n",
       "    <tr>\n",
       "      <th>0</th>\n",
       "      <td>1</td>\n",
       "      <td>0</td>\n",
       "      <td>3</td>\n",
       "      <td>22.0</td>\n",
       "      <td>1</td>\n",
       "      <td>0</td>\n",
       "      <td>A/5 21171</td>\n",
       "      <td>7.2500</td>\n",
       "      <td>S</td>\n",
       "      <td>0</td>\n",
       "      <td>0</td>\n",
       "    </tr>\n",
       "    <tr>\n",
       "      <th>1</th>\n",
       "      <td>2</td>\n",
       "      <td>1</td>\n",
       "      <td>1</td>\n",
       "      <td>38.0</td>\n",
       "      <td>1</td>\n",
       "      <td>0</td>\n",
       "      <td>PC 17599</td>\n",
       "      <td>71.2833</td>\n",
       "      <td>C</td>\n",
       "      <td>2</td>\n",
       "      <td>1</td>\n",
       "    </tr>\n",
       "  </tbody>\n",
       "</table>\n",
       "</div>"
      ],
      "text/plain": [
       "   PassengerId  Survived  Pclass   Age  SibSp  Parch     Ticket     Fare  \\\n",
       "0            1         0       3  22.0      1      0  A/5 21171   7.2500   \n",
       "1            2         1       1  38.0      1      0   PC 17599  71.2833   \n",
       "\n",
       "  Embarked  Title  Sex2  \n",
       "0        S      0     0  \n",
       "1        C      2     1  "
      ]
     },
     "execution_count": 34,
     "metadata": {},
     "output_type": "execute_result"
    }
   ],
   "source": [
    "train.head(2)"
   ]
  },
  {
   "cell_type": "code",
   "execution_count": 35,
   "id": "9f5b6b64",
   "metadata": {
    "execution": {
     "iopub.execute_input": "2023-10-15T08:54:16.968464Z",
     "iopub.status.busy": "2023-10-15T08:54:16.967851Z",
     "iopub.status.idle": "2023-10-15T08:54:16.973597Z",
     "shell.execute_reply": "2023-10-15T08:54:16.972895Z"
    },
    "papermill": {
     "duration": 0.030887,
     "end_time": "2023-10-15T08:54:16.975680",
     "exception": false,
     "start_time": "2023-10-15T08:54:16.944793",
     "status": "completed"
    },
    "tags": []
   },
   "outputs": [],
   "source": [
    "#remove ticket column \n",
    "train.drop('Ticket', axis =1, inplace= True)\n",
    "test.drop('Ticket', axis =1, inplace= True)"
   ]
  },
  {
   "cell_type": "code",
   "execution_count": 36,
   "id": "a2d712a6",
   "metadata": {
    "execution": {
     "iopub.execute_input": "2023-10-15T08:54:17.022130Z",
     "iopub.status.busy": "2023-10-15T08:54:17.021506Z",
     "iopub.status.idle": "2023-10-15T08:54:17.033575Z",
     "shell.execute_reply": "2023-10-15T08:54:17.032502Z"
    },
    "papermill": {
     "duration": 0.038074,
     "end_time": "2023-10-15T08:54:17.035758",
     "exception": false,
     "start_time": "2023-10-15T08:54:16.997684",
     "status": "completed"
    },
    "tags": []
   },
   "outputs": [
    {
     "data": {
      "text/html": [
       "<div>\n",
       "<style scoped>\n",
       "    .dataframe tbody tr th:only-of-type {\n",
       "        vertical-align: middle;\n",
       "    }\n",
       "\n",
       "    .dataframe tbody tr th {\n",
       "        vertical-align: top;\n",
       "    }\n",
       "\n",
       "    .dataframe thead th {\n",
       "        text-align: right;\n",
       "    }\n",
       "</style>\n",
       "<table border=\"1\" class=\"dataframe\">\n",
       "  <thead>\n",
       "    <tr style=\"text-align: right;\">\n",
       "      <th></th>\n",
       "      <th>Embarked</th>\n",
       "      <th>Embarked2</th>\n",
       "    </tr>\n",
       "  </thead>\n",
       "  <tbody>\n",
       "    <tr>\n",
       "      <th>0</th>\n",
       "      <td>S</td>\n",
       "      <td>0</td>\n",
       "    </tr>\n",
       "    <tr>\n",
       "      <th>1</th>\n",
       "      <td>C</td>\n",
       "      <td>1</td>\n",
       "    </tr>\n",
       "    <tr>\n",
       "      <th>2</th>\n",
       "      <td>S</td>\n",
       "      <td>0</td>\n",
       "    </tr>\n",
       "    <tr>\n",
       "      <th>3</th>\n",
       "      <td>S</td>\n",
       "      <td>0</td>\n",
       "    </tr>\n",
       "    <tr>\n",
       "      <th>4</th>\n",
       "      <td>S</td>\n",
       "      <td>0</td>\n",
       "    </tr>\n",
       "  </tbody>\n",
       "</table>\n",
       "</div>"
      ],
      "text/plain": [
       "  Embarked Embarked2\n",
       "0        S         0\n",
       "1        C         1\n",
       "2        S         0\n",
       "3        S         0\n",
       "4        S         0"
      ]
     },
     "execution_count": 36,
     "metadata": {},
     "output_type": "execute_result"
    }
   ],
   "source": [
    "#replacing embarked strings into numeric values \n",
    "train['Embarked2'] = train['Embarked'].map({'S': '0', 'C': '1', 'Q': '2'})\n",
    "test['Embarked2'] = test['Embarked'].map({'S': '0', 'C': '1', 'Q': '2'})\n",
    "train[['Embarked', 'Embarked2']].head()"
   ]
  },
  {
   "cell_type": "code",
   "execution_count": 37,
   "id": "6fd3e649",
   "metadata": {
    "execution": {
     "iopub.execute_input": "2023-10-15T08:54:17.081041Z",
     "iopub.status.busy": "2023-10-15T08:54:17.080427Z",
     "iopub.status.idle": "2023-10-15T08:54:17.093004Z",
     "shell.execute_reply": "2023-10-15T08:54:17.091958Z"
    },
    "papermill": {
     "duration": 0.038146,
     "end_time": "2023-10-15T08:54:17.095142",
     "exception": false,
     "start_time": "2023-10-15T08:54:17.056996",
     "status": "completed"
    },
    "tags": []
   },
   "outputs": [
    {
     "data": {
      "text/html": [
       "<div>\n",
       "<style scoped>\n",
       "    .dataframe tbody tr th:only-of-type {\n",
       "        vertical-align: middle;\n",
       "    }\n",
       "\n",
       "    .dataframe tbody tr th {\n",
       "        vertical-align: top;\n",
       "    }\n",
       "\n",
       "    .dataframe thead th {\n",
       "        text-align: right;\n",
       "    }\n",
       "</style>\n",
       "<table border=\"1\" class=\"dataframe\">\n",
       "  <thead>\n",
       "    <tr style=\"text-align: right;\">\n",
       "      <th></th>\n",
       "      <th>PassengerId</th>\n",
       "      <th>Survived</th>\n",
       "      <th>Pclass</th>\n",
       "      <th>Age</th>\n",
       "      <th>SibSp</th>\n",
       "      <th>Parch</th>\n",
       "      <th>Fare</th>\n",
       "      <th>Embarked</th>\n",
       "      <th>Title</th>\n",
       "      <th>Sex2</th>\n",
       "      <th>Embarked2</th>\n",
       "    </tr>\n",
       "  </thead>\n",
       "  <tbody>\n",
       "    <tr>\n",
       "      <th>0</th>\n",
       "      <td>1</td>\n",
       "      <td>0</td>\n",
       "      <td>3</td>\n",
       "      <td>22.0</td>\n",
       "      <td>1</td>\n",
       "      <td>0</td>\n",
       "      <td>7.2500</td>\n",
       "      <td>S</td>\n",
       "      <td>0</td>\n",
       "      <td>0</td>\n",
       "      <td>0</td>\n",
       "    </tr>\n",
       "    <tr>\n",
       "      <th>1</th>\n",
       "      <td>2</td>\n",
       "      <td>1</td>\n",
       "      <td>1</td>\n",
       "      <td>38.0</td>\n",
       "      <td>1</td>\n",
       "      <td>0</td>\n",
       "      <td>71.2833</td>\n",
       "      <td>C</td>\n",
       "      <td>2</td>\n",
       "      <td>1</td>\n",
       "      <td>1</td>\n",
       "    </tr>\n",
       "  </tbody>\n",
       "</table>\n",
       "</div>"
      ],
      "text/plain": [
       "   PassengerId  Survived  Pclass   Age  SibSp  Parch     Fare Embarked  Title  \\\n",
       "0            1         0       3  22.0      1      0   7.2500        S      0   \n",
       "1            2         1       1  38.0      1      0  71.2833        C      2   \n",
       "\n",
       "   Sex2 Embarked2  \n",
       "0     0         0  \n",
       "1     1         1  "
      ]
     },
     "execution_count": 37,
     "metadata": {},
     "output_type": "execute_result"
    }
   ],
   "source": [
    "train.head(2)"
   ]
  },
  {
   "cell_type": "code",
   "execution_count": 38,
   "id": "1b805779",
   "metadata": {
    "execution": {
     "iopub.execute_input": "2023-10-15T08:54:17.139731Z",
     "iopub.status.busy": "2023-10-15T08:54:17.139109Z",
     "iopub.status.idle": "2023-10-15T08:54:17.147280Z",
     "shell.execute_reply": "2023-10-15T08:54:17.146174Z"
    },
    "papermill": {
     "duration": 0.033424,
     "end_time": "2023-10-15T08:54:17.149700",
     "exception": false,
     "start_time": "2023-10-15T08:54:17.116276",
     "status": "completed"
    },
    "tags": []
   },
   "outputs": [],
   "source": [
    "train.drop('Embarked', axis =1, inplace= True)\n",
    "test.drop('Embarked', axis =1, inplace= True)"
   ]
  },
  {
   "cell_type": "code",
   "execution_count": 39,
   "id": "8b39a506",
   "metadata": {
    "execution": {
     "iopub.execute_input": "2023-10-15T08:54:17.195565Z",
     "iopub.status.busy": "2023-10-15T08:54:17.194476Z",
     "iopub.status.idle": "2023-10-15T08:54:17.207628Z",
     "shell.execute_reply": "2023-10-15T08:54:17.206512Z"
    },
    "papermill": {
     "duration": 0.038108,
     "end_time": "2023-10-15T08:54:17.209614",
     "exception": false,
     "start_time": "2023-10-15T08:54:17.171506",
     "status": "completed"
    },
    "tags": []
   },
   "outputs": [
    {
     "data": {
      "text/html": [
       "<div>\n",
       "<style scoped>\n",
       "    .dataframe tbody tr th:only-of-type {\n",
       "        vertical-align: middle;\n",
       "    }\n",
       "\n",
       "    .dataframe tbody tr th {\n",
       "        vertical-align: top;\n",
       "    }\n",
       "\n",
       "    .dataframe thead th {\n",
       "        text-align: right;\n",
       "    }\n",
       "</style>\n",
       "<table border=\"1\" class=\"dataframe\">\n",
       "  <thead>\n",
       "    <tr style=\"text-align: right;\">\n",
       "      <th></th>\n",
       "      <th>PassengerId</th>\n",
       "      <th>Survived</th>\n",
       "      <th>Pclass</th>\n",
       "      <th>Age</th>\n",
       "      <th>SibSp</th>\n",
       "      <th>Parch</th>\n",
       "      <th>Fare</th>\n",
       "      <th>Title</th>\n",
       "      <th>Sex2</th>\n",
       "      <th>Embarked2</th>\n",
       "    </tr>\n",
       "  </thead>\n",
       "  <tbody>\n",
       "    <tr>\n",
       "      <th>0</th>\n",
       "      <td>1</td>\n",
       "      <td>0</td>\n",
       "      <td>3</td>\n",
       "      <td>22.0</td>\n",
       "      <td>1</td>\n",
       "      <td>0</td>\n",
       "      <td>7.2500</td>\n",
       "      <td>0</td>\n",
       "      <td>0</td>\n",
       "      <td>0</td>\n",
       "    </tr>\n",
       "    <tr>\n",
       "      <th>1</th>\n",
       "      <td>2</td>\n",
       "      <td>1</td>\n",
       "      <td>1</td>\n",
       "      <td>38.0</td>\n",
       "      <td>1</td>\n",
       "      <td>0</td>\n",
       "      <td>71.2833</td>\n",
       "      <td>2</td>\n",
       "      <td>1</td>\n",
       "      <td>1</td>\n",
       "    </tr>\n",
       "  </tbody>\n",
       "</table>\n",
       "</div>"
      ],
      "text/plain": [
       "   PassengerId  Survived  Pclass   Age  SibSp  Parch     Fare  Title  Sex2  \\\n",
       "0            1         0       3  22.0      1      0   7.2500      0     0   \n",
       "1            2         1       1  38.0      1      0  71.2833      2     1   \n",
       "\n",
       "  Embarked2  \n",
       "0         0  \n",
       "1         1  "
      ]
     },
     "execution_count": 39,
     "metadata": {},
     "output_type": "execute_result"
    }
   ],
   "source": [
    "train.head(2)"
   ]
  },
  {
   "cell_type": "code",
   "execution_count": 40,
   "id": "6e5f856e",
   "metadata": {
    "execution": {
     "iopub.execute_input": "2023-10-15T08:54:17.255021Z",
     "iopub.status.busy": "2023-10-15T08:54:17.254632Z",
     "iopub.status.idle": "2023-10-15T08:54:17.264333Z",
     "shell.execute_reply": "2023-10-15T08:54:17.263374Z"
    },
    "papermill": {
     "duration": 0.034968,
     "end_time": "2023-10-15T08:54:17.266451",
     "exception": false,
     "start_time": "2023-10-15T08:54:17.231483",
     "status": "completed"
    },
    "tags": []
   },
   "outputs": [
    {
     "data": {
      "text/plain": [
       "PassengerId    0\n",
       "Survived       0\n",
       "Pclass         0\n",
       "Age            0\n",
       "SibSp          0\n",
       "Parch          0\n",
       "Fare           0\n",
       "Title          0\n",
       "Sex2           0\n",
       "Embarked2      2\n",
       "dtype: int64"
      ]
     },
     "execution_count": 40,
     "metadata": {},
     "output_type": "execute_result"
    }
   ],
   "source": [
    "train.isnull().sum()"
   ]
  },
  {
   "cell_type": "code",
   "execution_count": 41,
   "id": "981c8b49",
   "metadata": {
    "execution": {
     "iopub.execute_input": "2023-10-15T08:54:17.313001Z",
     "iopub.status.busy": "2023-10-15T08:54:17.312265Z",
     "iopub.status.idle": "2023-10-15T08:54:17.322484Z",
     "shell.execute_reply": "2023-10-15T08:54:17.321605Z"
    },
    "papermill": {
     "duration": 0.035913,
     "end_time": "2023-10-15T08:54:17.324648",
     "exception": false,
     "start_time": "2023-10-15T08:54:17.288735",
     "status": "completed"
    },
    "tags": []
   },
   "outputs": [],
   "source": [
    "#removing missing values \n",
    "train= train.dropna(subset=[\"Embarked2\"])\n",
    "test = train.dropna(subset=[\"Fare\"])\n",
    "test = train.dropna(subset=[\"Embarked2\"])"
   ]
  },
  {
   "cell_type": "code",
   "execution_count": 42,
   "id": "b1479ed9",
   "metadata": {
    "execution": {
     "iopub.execute_input": "2023-10-15T08:54:17.369277Z",
     "iopub.status.busy": "2023-10-15T08:54:17.368554Z",
     "iopub.status.idle": "2023-10-15T08:54:17.665170Z",
     "shell.execute_reply": "2023-10-15T08:54:17.664185Z"
    },
    "papermill": {
     "duration": 0.321434,
     "end_time": "2023-10-15T08:54:17.667321",
     "exception": false,
     "start_time": "2023-10-15T08:54:17.345887",
     "status": "completed"
    },
    "tags": []
   },
   "outputs": [
    {
     "data": {
      "text/plain": [
       "<Axes: >"
      ]
     },
     "execution_count": 42,
     "metadata": {},
     "output_type": "execute_result"
    },
    {
     "data": {
      "image/png": "[encoded data removed]",
      "text/plain": [
       "<Figure size 1000x500 with 1 Axes>"
      ]
     },
     "metadata": {},
     "output_type": "display_data"
    }
   ],
   "source": [
    "Pclass1 = train[train['Pclass']==1]['Embarked2'].value_counts()\n",
    "Pclass2 = train[train['Pclass']==2]['Embarked2'].value_counts()\n",
    "Pclass3 = train[train['Pclass']==3]['Embarked2'].value_counts()\n",
    "df = pd.DataFrame([Pclass1, Pclass2, Pclass3])\n",
    "df.index = ['1st class','2nd class', '3rd class']\n",
    "df.plot(kind='bar',stacked=True, figsize=(10,5))"
   ]
  },
  {
   "cell_type": "code",
   "execution_count": 43,
   "id": "919ab475",
   "metadata": {
    "execution": {
     "iopub.execute_input": "2023-10-15T08:54:17.712906Z",
     "iopub.status.busy": "2023-10-15T08:54:17.712358Z",
     "iopub.status.idle": "2023-10-15T08:54:17.719432Z",
     "shell.execute_reply": "2023-10-15T08:54:17.718429Z"
    },
    "papermill": {
     "duration": 0.031818,
     "end_time": "2023-10-15T08:54:17.721184",
     "exception": false,
     "start_time": "2023-10-15T08:54:17.689366",
     "status": "completed"
    },
    "tags": []
   },
   "outputs": [
    {
     "data": {
      "text/plain": [
       "PassengerId    0\n",
       "Survived       0\n",
       "Pclass         0\n",
       "Age            0\n",
       "SibSp          0\n",
       "Parch          0\n",
       "Fare           0\n",
       "Title          0\n",
       "Sex2           0\n",
       "Embarked2      0\n",
       "dtype: int64"
      ]
     },
     "execution_count": 43,
     "metadata": {},
     "output_type": "execute_result"
    }
   ],
   "source": [
    "train.isnull().sum()"
   ]
  },
  {
   "cell_type": "code",
   "execution_count": 44,
   "id": "b240d997",
   "metadata": {
    "execution": {
     "iopub.execute_input": "2023-10-15T08:54:17.767610Z",
     "iopub.status.busy": "2023-10-15T08:54:17.767055Z",
     "iopub.status.idle": "2023-10-15T08:54:17.773882Z",
     "shell.execute_reply": "2023-10-15T08:54:17.772932Z"
    },
    "papermill": {
     "duration": 0.032697,
     "end_time": "2023-10-15T08:54:17.775745",
     "exception": false,
     "start_time": "2023-10-15T08:54:17.743048",
     "status": "completed"
    },
    "tags": []
   },
   "outputs": [
    {
     "data": {
      "text/plain": [
       "PassengerId    0\n",
       "Survived       0\n",
       "Pclass         0\n",
       "Age            0\n",
       "SibSp          0\n",
       "Parch          0\n",
       "Fare           0\n",
       "Title          0\n",
       "Sex2           0\n",
       "Embarked2      0\n",
       "dtype: int64"
      ]
     },
     "execution_count": 44,
     "metadata": {},
     "output_type": "execute_result"
    }
   ],
   "source": [
    "test.isnull().sum()"
   ]
  },
  {
   "cell_type": "code",
   "execution_count": 45,
   "id": "e3e4321d",
   "metadata": {
    "execution": {
     "iopub.execute_input": "2023-10-15T08:54:17.821086Z",
     "iopub.status.busy": "2023-10-15T08:54:17.820514Z",
     "iopub.status.idle": "2023-10-15T08:54:17.826096Z",
     "shell.execute_reply": "2023-10-15T08:54:17.825387Z"
    },
    "papermill": {
     "duration": 0.030688,
     "end_time": "2023-10-15T08:54:17.828229",
     "exception": false,
     "start_time": "2023-10-15T08:54:17.797541",
     "status": "completed"
    },
    "tags": []
   },
   "outputs": [],
   "source": [
    "train.drop('Embarked2', axis =1, inplace= True)\n",
    "test.drop('Embarked2', axis =1, inplace= True) # dropped it beXGboost model works"
   ]
  },
  {
   "cell_type": "markdown",
   "id": "0083a2b8",
   "metadata": {
    "papermill": {
     "duration": 0.021688,
     "end_time": "2023-10-15T08:54:17.871883",
     "exception": false,
     "start_time": "2023-10-15T08:54:17.850195",
     "status": "completed"
    },
    "tags": []
   },
   "source": [
    "# Correlation"
   ]
  },
  {
   "cell_type": "code",
   "execution_count": 46,
   "id": "f98e8f86",
   "metadata": {
    "execution": {
     "iopub.execute_input": "2023-10-15T08:54:17.919219Z",
     "iopub.status.busy": "2023-10-15T08:54:17.918537Z",
     "iopub.status.idle": "2023-10-15T08:54:17.935840Z",
     "shell.execute_reply": "2023-10-15T08:54:17.935056Z"
    },
    "papermill": {
     "duration": 0.045111,
     "end_time": "2023-10-15T08:54:17.938793",
     "exception": false,
     "start_time": "2023-10-15T08:54:17.893682",
     "status": "completed"
    },
    "tags": []
   },
   "outputs": [
    {
     "data": {
      "text/html": [
       "<div>\n",
       "<style scoped>\n",
       "    .dataframe tbody tr th:only-of-type {\n",
       "        vertical-align: middle;\n",
       "    }\n",
       "\n",
       "    .dataframe tbody tr th {\n",
       "        vertical-align: top;\n",
       "    }\n",
       "\n",
       "    .dataframe thead th {\n",
       "        text-align: right;\n",
       "    }\n",
       "</style>\n",
       "<table border=\"1\" class=\"dataframe\">\n",
       "  <thead>\n",
       "    <tr style=\"text-align: right;\">\n",
       "      <th></th>\n",
       "      <th>PassengerId</th>\n",
       "      <th>Survived</th>\n",
       "      <th>Pclass</th>\n",
       "      <th>Age</th>\n",
       "      <th>SibSp</th>\n",
       "      <th>Parch</th>\n",
       "      <th>Fare</th>\n",
       "      <th>Title</th>\n",
       "      <th>Sex2</th>\n",
       "    </tr>\n",
       "  </thead>\n",
       "  <tbody>\n",
       "    <tr>\n",
       "      <th>PassengerId</th>\n",
       "      <td>1.000000</td>\n",
       "      <td>-0.005028</td>\n",
       "      <td>-0.035330</td>\n",
       "      <td>0.033008</td>\n",
       "      <td>-0.057686</td>\n",
       "      <td>-0.001657</td>\n",
       "      <td>0.012703</td>\n",
       "      <td>-0.004301</td>\n",
       "      <td>-0.043136</td>\n",
       "    </tr>\n",
       "    <tr>\n",
       "      <th>Survived</th>\n",
       "      <td>-0.005028</td>\n",
       "      <td>1.000000</td>\n",
       "      <td>-0.335549</td>\n",
       "      <td>-0.052051</td>\n",
       "      <td>-0.034040</td>\n",
       "      <td>0.083151</td>\n",
       "      <td>0.255290</td>\n",
       "      <td>0.444737</td>\n",
       "      <td>0.541585</td>\n",
       "    </tr>\n",
       "    <tr>\n",
       "      <th>Pclass</th>\n",
       "      <td>-0.035330</td>\n",
       "      <td>-0.335549</td>\n",
       "      <td>1.000000</td>\n",
       "      <td>-0.405549</td>\n",
       "      <td>0.081656</td>\n",
       "      <td>0.016824</td>\n",
       "      <td>-0.548193</td>\n",
       "      <td>-0.161948</td>\n",
       "      <td>-0.127741</td>\n",
       "    </tr>\n",
       "    <tr>\n",
       "      <th>Age</th>\n",
       "      <td>0.033008</td>\n",
       "      <td>-0.052051</td>\n",
       "      <td>-0.405549</td>\n",
       "      <td>1.000000</td>\n",
       "      <td>-0.242807</td>\n",
       "      <td>-0.170089</td>\n",
       "      <td>0.120938</td>\n",
       "      <td>-0.123288</td>\n",
       "      <td>-0.083730</td>\n",
       "    </tr>\n",
       "    <tr>\n",
       "      <th>SibSp</th>\n",
       "      <td>-0.057686</td>\n",
       "      <td>-0.034040</td>\n",
       "      <td>0.081656</td>\n",
       "      <td>-0.242807</td>\n",
       "      <td>1.000000</td>\n",
       "      <td>0.414542</td>\n",
       "      <td>0.160887</td>\n",
       "      <td>0.288305</td>\n",
       "      <td>0.116348</td>\n",
       "    </tr>\n",
       "    <tr>\n",
       "      <th>Parch</th>\n",
       "      <td>-0.001657</td>\n",
       "      <td>0.083151</td>\n",
       "      <td>0.016824</td>\n",
       "      <td>-0.170089</td>\n",
       "      <td>0.414542</td>\n",
       "      <td>1.000000</td>\n",
       "      <td>0.217532</td>\n",
       "      <td>0.342975</td>\n",
       "      <td>0.247508</td>\n",
       "    </tr>\n",
       "    <tr>\n",
       "      <th>Fare</th>\n",
       "      <td>0.012703</td>\n",
       "      <td>0.255290</td>\n",
       "      <td>-0.548193</td>\n",
       "      <td>0.120938</td>\n",
       "      <td>0.160887</td>\n",
       "      <td>0.217532</td>\n",
       "      <td>1.000000</td>\n",
       "      <td>0.143307</td>\n",
       "      <td>0.179958</td>\n",
       "    </tr>\n",
       "    <tr>\n",
       "      <th>Title</th>\n",
       "      <td>-0.004301</td>\n",
       "      <td>0.444737</td>\n",
       "      <td>-0.161948</td>\n",
       "      <td>-0.123288</td>\n",
       "      <td>0.288305</td>\n",
       "      <td>0.342975</td>\n",
       "      <td>0.143307</td>\n",
       "      <td>1.000000</td>\n",
       "      <td>0.557138</td>\n",
       "    </tr>\n",
       "    <tr>\n",
       "      <th>Sex2</th>\n",
       "      <td>-0.043136</td>\n",
       "      <td>0.541585</td>\n",
       "      <td>-0.127741</td>\n",
       "      <td>-0.083730</td>\n",
       "      <td>0.116348</td>\n",
       "      <td>0.247508</td>\n",
       "      <td>0.179958</td>\n",
       "      <td>0.557138</td>\n",
       "      <td>1.000000</td>\n",
       "    </tr>\n",
       "  </tbody>\n",
       "</table>\n",
       "</div>"
      ],
      "text/plain": [
       "             PassengerId  Survived    Pclass       Age     SibSp     Parch  \\\n",
       "PassengerId     1.000000 -0.005028 -0.035330  0.033008 -0.057686 -0.001657   \n",
       "Survived       -0.005028  1.000000 -0.335549 -0.052051 -0.034040  0.083151   \n",
       "Pclass         -0.035330 -0.335549  1.000000 -0.405549  0.081656  0.016824   \n",
       "Age             0.033008 -0.052051 -0.405549  1.000000 -0.242807 -0.170089   \n",
       "SibSp          -0.057686 -0.034040  0.081656 -0.242807  1.000000  0.414542   \n",
       "Parch          -0.001657  0.083151  0.016824 -0.170089  0.414542  1.000000   \n",
       "Fare            0.012703  0.255290 -0.548193  0.120938  0.160887  0.217532   \n",
       "Title          -0.004301  0.444737 -0.161948 -0.123288  0.288305  0.342975   \n",
       "Sex2           -0.043136  0.541585 -0.127741 -0.083730  0.116348  0.247508   \n",
       "\n",
       "                 Fare     Title      Sex2  \n",
       "PassengerId  0.012703 -0.004301 -0.043136  \n",
       "Survived     0.255290  0.444737  0.541585  \n",
       "Pclass      -0.548193 -0.161948 -0.127741  \n",
       "Age          0.120938 -0.123288 -0.083730  \n",
       "SibSp        0.160887  0.288305  0.116348  \n",
       "Parch        0.217532  0.342975  0.247508  \n",
       "Fare         1.000000  0.143307  0.179958  \n",
       "Title        0.143307  1.000000  0.557138  \n",
       "Sex2         0.179958  0.557138  1.000000  "
      ]
     },
     "execution_count": 46,
     "metadata": {},
     "output_type": "execute_result"
    }
   ],
   "source": [
    "train.corr()"
   ]
  },
  {
   "cell_type": "code",
   "execution_count": 47,
   "id": "3fa2066c",
   "metadata": {
    "execution": {
     "iopub.execute_input": "2023-10-15T08:54:17.986538Z",
     "iopub.status.busy": "2023-10-15T08:54:17.985902Z",
     "iopub.status.idle": "2023-10-15T08:54:18.644591Z",
     "shell.execute_reply": "2023-10-15T08:54:18.643521Z"
    },
    "papermill": {
     "duration": 0.685734,
     "end_time": "2023-10-15T08:54:18.647088",
     "exception": false,
     "start_time": "2023-10-15T08:54:17.961354",
     "status": "completed"
    },
    "tags": []
   },
   "outputs": [
    {
     "data": {
      "text/plain": [
       "<Axes: >"
      ]
     },
     "execution_count": 47,
     "metadata": {},
     "output_type": "execute_result"
    },
    {
     "data": {
      "image/png": "[encoded data removed]",
      "text/plain": [
       "<Figure size 600x600 with 2 Axes>"
      ]
     },
     "metadata": {},
     "output_type": "display_data"
    }
   ],
   "source": [
    "correlation = train.corr()\n",
    "plt.figure(figsize= (6,6))\n",
    "sns.heatmap(correlation,square=True, fmt='.2f', annot=True)"
   ]
  },
  {
   "cell_type": "markdown",
   "id": "89970746",
   "metadata": {
    "papermill": {
     "duration": 0.024148,
     "end_time": "2023-10-15T08:54:18.696465",
     "exception": false,
     "start_time": "2023-10-15T08:54:18.672317",
     "status": "completed"
    },
    "tags": []
   },
   "source": [
    "# Modelling "
   ]
  },
  {
   "cell_type": "code",
   "execution_count": 48,
   "id": "9f7fa015",
   "metadata": {
    "execution": {
     "iopub.execute_input": "2023-10-15T08:54:18.746817Z",
     "iopub.status.busy": "2023-10-15T08:54:18.746244Z",
     "iopub.status.idle": "2023-10-15T08:54:18.751499Z",
     "shell.execute_reply": "2023-10-15T08:54:18.750641Z"
    },
    "papermill": {
     "duration": 0.032871,
     "end_time": "2023-10-15T08:54:18.753608",
     "exception": false,
     "start_time": "2023-10-15T08:54:18.720737",
     "status": "completed"
    },
    "tags": []
   },
   "outputs": [],
   "source": [
    "# creating features and label datasets\n",
    "X = train.drop(columns = ['Survived'])\n",
    "X.head()\n",
    "y = train['Survived']"
   ]
  },
  {
   "cell_type": "code",
   "execution_count": 49,
   "id": "1a1d87f3",
   "metadata": {
    "execution": {
     "iopub.execute_input": "2023-10-15T08:54:18.806064Z",
     "iopub.status.busy": "2023-10-15T08:54:18.805069Z",
     "iopub.status.idle": "2023-10-15T08:54:18.811039Z",
     "shell.execute_reply": "2023-10-15T08:54:18.810320Z"
    },
    "papermill": {
     "duration": 0.033524,
     "end_time": "2023-10-15T08:54:18.813112",
     "exception": false,
     "start_time": "2023-10-15T08:54:18.779588",
     "status": "completed"
    },
    "tags": []
   },
   "outputs": [],
   "source": [
    "from sklearn.model_selection import train_test_split\n",
    "X_train, X_test, y_train, y_test = train_test_split(X,y, test_size =.2, random_state = 0)"
   ]
  },
  {
   "cell_type": "code",
   "execution_count": 50,
   "id": "2d791e78",
   "metadata": {
    "execution": {
     "iopub.execute_input": "2023-10-15T08:54:18.863125Z",
     "iopub.status.busy": "2023-10-15T08:54:18.862527Z",
     "iopub.status.idle": "2023-10-15T08:54:18.876513Z",
     "shell.execute_reply": "2023-10-15T08:54:18.875766Z"
    },
    "papermill": {
     "duration": 0.041436,
     "end_time": "2023-10-15T08:54:18.878600",
     "exception": false,
     "start_time": "2023-10-15T08:54:18.837164",
     "status": "completed"
    },
    "tags": []
   },
   "outputs": [
    {
     "data": {
      "text/html": [
       "<div>\n",
       "<style scoped>\n",
       "    .dataframe tbody tr th:only-of-type {\n",
       "        vertical-align: middle;\n",
       "    }\n",
       "\n",
       "    .dataframe tbody tr th {\n",
       "        vertical-align: top;\n",
       "    }\n",
       "\n",
       "    .dataframe thead th {\n",
       "        text-align: right;\n",
       "    }\n",
       "</style>\n",
       "<table border=\"1\" class=\"dataframe\">\n",
       "  <thead>\n",
       "    <tr style=\"text-align: right;\">\n",
       "      <th></th>\n",
       "      <th>PassengerId</th>\n",
       "      <th>Pclass</th>\n",
       "      <th>Age</th>\n",
       "      <th>SibSp</th>\n",
       "      <th>Parch</th>\n",
       "      <th>Fare</th>\n",
       "      <th>Title</th>\n",
       "      <th>Sex2</th>\n",
       "    </tr>\n",
       "  </thead>\n",
       "  <tbody>\n",
       "    <tr>\n",
       "      <th>364</th>\n",
       "      <td>365</td>\n",
       "      <td>3</td>\n",
       "      <td>24.0</td>\n",
       "      <td>1</td>\n",
       "      <td>0</td>\n",
       "      <td>15.5000</td>\n",
       "      <td>0</td>\n",
       "      <td>0</td>\n",
       "    </tr>\n",
       "    <tr>\n",
       "      <th>256</th>\n",
       "      <td>257</td>\n",
       "      <td>1</td>\n",
       "      <td>37.0</td>\n",
       "      <td>0</td>\n",
       "      <td>0</td>\n",
       "      <td>79.2000</td>\n",
       "      <td>2</td>\n",
       "      <td>1</td>\n",
       "    </tr>\n",
       "    <tr>\n",
       "      <th>477</th>\n",
       "      <td>478</td>\n",
       "      <td>3</td>\n",
       "      <td>29.0</td>\n",
       "      <td>1</td>\n",
       "      <td>0</td>\n",
       "      <td>7.0458</td>\n",
       "      <td>0</td>\n",
       "      <td>0</td>\n",
       "    </tr>\n",
       "    <tr>\n",
       "      <th>272</th>\n",
       "      <td>273</td>\n",
       "      <td>2</td>\n",
       "      <td>41.0</td>\n",
       "      <td>0</td>\n",
       "      <td>1</td>\n",
       "      <td>19.5000</td>\n",
       "      <td>2</td>\n",
       "      <td>1</td>\n",
       "    </tr>\n",
       "    <tr>\n",
       "      <th>554</th>\n",
       "      <td>555</td>\n",
       "      <td>3</td>\n",
       "      <td>22.0</td>\n",
       "      <td>0</td>\n",
       "      <td>0</td>\n",
       "      <td>7.7750</td>\n",
       "      <td>1</td>\n",
       "      <td>1</td>\n",
       "    </tr>\n",
       "    <tr>\n",
       "      <th>...</th>\n",
       "      <td>...</td>\n",
       "      <td>...</td>\n",
       "      <td>...</td>\n",
       "      <td>...</td>\n",
       "      <td>...</td>\n",
       "      <td>...</td>\n",
       "      <td>...</td>\n",
       "      <td>...</td>\n",
       "    </tr>\n",
       "    <tr>\n",
       "      <th>837</th>\n",
       "      <td>838</td>\n",
       "      <td>3</td>\n",
       "      <td>24.0</td>\n",
       "      <td>0</td>\n",
       "      <td>0</td>\n",
       "      <td>8.0500</td>\n",
       "      <td>0</td>\n",
       "      <td>0</td>\n",
       "    </tr>\n",
       "    <tr>\n",
       "      <th>193</th>\n",
       "      <td>194</td>\n",
       "      <td>2</td>\n",
       "      <td>3.0</td>\n",
       "      <td>1</td>\n",
       "      <td>1</td>\n",
       "      <td>26.0000</td>\n",
       "      <td>3</td>\n",
       "      <td>0</td>\n",
       "    </tr>\n",
       "    <tr>\n",
       "      <th>630</th>\n",
       "      <td>631</td>\n",
       "      <td>1</td>\n",
       "      <td>80.0</td>\n",
       "      <td>0</td>\n",
       "      <td>0</td>\n",
       "      <td>30.0000</td>\n",
       "      <td>0</td>\n",
       "      <td>0</td>\n",
       "    </tr>\n",
       "    <tr>\n",
       "      <th>560</th>\n",
       "      <td>561</td>\n",
       "      <td>3</td>\n",
       "      <td>24.0</td>\n",
       "      <td>0</td>\n",
       "      <td>0</td>\n",
       "      <td>7.7500</td>\n",
       "      <td>0</td>\n",
       "      <td>0</td>\n",
       "    </tr>\n",
       "    <tr>\n",
       "      <th>685</th>\n",
       "      <td>686</td>\n",
       "      <td>2</td>\n",
       "      <td>25.0</td>\n",
       "      <td>1</td>\n",
       "      <td>2</td>\n",
       "      <td>41.5792</td>\n",
       "      <td>0</td>\n",
       "      <td>0</td>\n",
       "    </tr>\n",
       "  </tbody>\n",
       "</table>\n",
       "<p>711 rows × 8 columns</p>\n",
       "</div>"
      ],
      "text/plain": [
       "     PassengerId  Pclass   Age  SibSp  Parch     Fare  Title  Sex2\n",
       "364          365       3  24.0      1      0  15.5000      0     0\n",
       "256          257       1  37.0      0      0  79.2000      2     1\n",
       "477          478       3  29.0      1      0   7.0458      0     0\n",
       "272          273       2  41.0      0      1  19.5000      2     1\n",
       "554          555       3  22.0      0      0   7.7750      1     1\n",
       "..           ...     ...   ...    ...    ...      ...    ...   ...\n",
       "837          838       3  24.0      0      0   8.0500      0     0\n",
       "193          194       2   3.0      1      1  26.0000      3     0\n",
       "630          631       1  80.0      0      0  30.0000      0     0\n",
       "560          561       3  24.0      0      0   7.7500      0     0\n",
       "685          686       2  25.0      1      2  41.5792      0     0\n",
       "\n",
       "[711 rows x 8 columns]"
      ]
     },
     "execution_count": 50,
     "metadata": {},
     "output_type": "execute_result"
    }
   ],
   "source": [
    "X_train"
   ]
  },
  {
   "cell_type": "code",
   "execution_count": 51,
   "id": "9d9d405c",
   "metadata": {
    "execution": {
     "iopub.execute_input": "2023-10-15T08:54:18.929842Z",
     "iopub.status.busy": "2023-10-15T08:54:18.929480Z",
     "iopub.status.idle": "2023-10-15T08:54:18.946118Z",
     "shell.execute_reply": "2023-10-15T08:54:18.945088Z"
    },
    "papermill": {
     "duration": 0.044998,
     "end_time": "2023-10-15T08:54:18.948126",
     "exception": false,
     "start_time": "2023-10-15T08:54:18.903128",
     "status": "completed"
    },
    "tags": []
   },
   "outputs": [
    {
     "data": {
      "text/html": [
       "<div>\n",
       "<style scoped>\n",
       "    .dataframe tbody tr th:only-of-type {\n",
       "        vertical-align: middle;\n",
       "    }\n",
       "\n",
       "    .dataframe tbody tr th {\n",
       "        vertical-align: top;\n",
       "    }\n",
       "\n",
       "    .dataframe thead th {\n",
       "        text-align: right;\n",
       "    }\n",
       "</style>\n",
       "<table border=\"1\" class=\"dataframe\">\n",
       "  <thead>\n",
       "    <tr style=\"text-align: right;\">\n",
       "      <th></th>\n",
       "      <th>PassengerId</th>\n",
       "      <th>Pclass</th>\n",
       "      <th>Age</th>\n",
       "      <th>SibSp</th>\n",
       "      <th>Parch</th>\n",
       "      <th>Fare</th>\n",
       "      <th>Title</th>\n",
       "      <th>Sex2</th>\n",
       "    </tr>\n",
       "  </thead>\n",
       "  <tbody>\n",
       "    <tr>\n",
       "      <th>14</th>\n",
       "      <td>15</td>\n",
       "      <td>3</td>\n",
       "      <td>14.0</td>\n",
       "      <td>0</td>\n",
       "      <td>0</td>\n",
       "      <td>7.8542</td>\n",
       "      <td>1</td>\n",
       "      <td>1</td>\n",
       "    </tr>\n",
       "    <tr>\n",
       "      <th>159</th>\n",
       "      <td>160</td>\n",
       "      <td>3</td>\n",
       "      <td>24.0</td>\n",
       "      <td>8</td>\n",
       "      <td>2</td>\n",
       "      <td>69.5500</td>\n",
       "      <td>3</td>\n",
       "      <td>0</td>\n",
       "    </tr>\n",
       "    <tr>\n",
       "      <th>763</th>\n",
       "      <td>764</td>\n",
       "      <td>1</td>\n",
       "      <td>36.0</td>\n",
       "      <td>1</td>\n",
       "      <td>2</td>\n",
       "      <td>120.0000</td>\n",
       "      <td>2</td>\n",
       "      <td>1</td>\n",
       "    </tr>\n",
       "    <tr>\n",
       "      <th>741</th>\n",
       "      <td>742</td>\n",
       "      <td>1</td>\n",
       "      <td>36.0</td>\n",
       "      <td>1</td>\n",
       "      <td>0</td>\n",
       "      <td>78.8500</td>\n",
       "      <td>0</td>\n",
       "      <td>0</td>\n",
       "    </tr>\n",
       "    <tr>\n",
       "      <th>483</th>\n",
       "      <td>484</td>\n",
       "      <td>3</td>\n",
       "      <td>63.0</td>\n",
       "      <td>0</td>\n",
       "      <td>0</td>\n",
       "      <td>9.5875</td>\n",
       "      <td>2</td>\n",
       "      <td>1</td>\n",
       "    </tr>\n",
       "    <tr>\n",
       "      <th>...</th>\n",
       "      <td>...</td>\n",
       "      <td>...</td>\n",
       "      <td>...</td>\n",
       "      <td>...</td>\n",
       "      <td>...</td>\n",
       "      <td>...</td>\n",
       "      <td>...</td>\n",
       "      <td>...</td>\n",
       "    </tr>\n",
       "    <tr>\n",
       "      <th>886</th>\n",
       "      <td>887</td>\n",
       "      <td>2</td>\n",
       "      <td>27.0</td>\n",
       "      <td>0</td>\n",
       "      <td>0</td>\n",
       "      <td>13.0000</td>\n",
       "      <td>3</td>\n",
       "      <td>0</td>\n",
       "    </tr>\n",
       "    <tr>\n",
       "      <th>673</th>\n",
       "      <td>674</td>\n",
       "      <td>2</td>\n",
       "      <td>31.0</td>\n",
       "      <td>0</td>\n",
       "      <td>0</td>\n",
       "      <td>13.0000</td>\n",
       "      <td>0</td>\n",
       "      <td>0</td>\n",
       "    </tr>\n",
       "    <tr>\n",
       "      <th>182</th>\n",
       "      <td>183</td>\n",
       "      <td>3</td>\n",
       "      <td>9.0</td>\n",
       "      <td>4</td>\n",
       "      <td>2</td>\n",
       "      <td>31.3875</td>\n",
       "      <td>3</td>\n",
       "      <td>0</td>\n",
       "    </tr>\n",
       "    <tr>\n",
       "      <th>632</th>\n",
       "      <td>633</td>\n",
       "      <td>1</td>\n",
       "      <td>32.0</td>\n",
       "      <td>0</td>\n",
       "      <td>0</td>\n",
       "      <td>30.5000</td>\n",
       "      <td>3</td>\n",
       "      <td>0</td>\n",
       "    </tr>\n",
       "    <tr>\n",
       "      <th>141</th>\n",
       "      <td>142</td>\n",
       "      <td>3</td>\n",
       "      <td>22.0</td>\n",
       "      <td>0</td>\n",
       "      <td>0</td>\n",
       "      <td>7.7500</td>\n",
       "      <td>1</td>\n",
       "      <td>1</td>\n",
       "    </tr>\n",
       "  </tbody>\n",
       "</table>\n",
       "<p>178 rows × 8 columns</p>\n",
       "</div>"
      ],
      "text/plain": [
       "     PassengerId  Pclass   Age  SibSp  Parch      Fare  Title  Sex2\n",
       "14            15       3  14.0      0      0    7.8542      1     1\n",
       "159          160       3  24.0      8      2   69.5500      3     0\n",
       "763          764       1  36.0      1      2  120.0000      2     1\n",
       "741          742       1  36.0      1      0   78.8500      0     0\n",
       "483          484       3  63.0      0      0    9.5875      2     1\n",
       "..           ...     ...   ...    ...    ...       ...    ...   ...\n",
       "886          887       2  27.0      0      0   13.0000      3     0\n",
       "673          674       2  31.0      0      0   13.0000      0     0\n",
       "182          183       3   9.0      4      2   31.3875      3     0\n",
       "632          633       1  32.0      0      0   30.5000      3     0\n",
       "141          142       3  22.0      0      0    7.7500      1     1\n",
       "\n",
       "[178 rows x 8 columns]"
      ]
     },
     "execution_count": 51,
     "metadata": {},
     "output_type": "execute_result"
    }
   ],
   "source": [
    "X_test"
   ]
  },
  {
   "cell_type": "markdown",
   "id": "9ab1d0c0",
   "metadata": {
    "papermill": {
     "duration": 0.024764,
     "end_time": "2023-10-15T08:54:18.998000",
     "exception": false,
     "start_time": "2023-10-15T08:54:18.973236",
     "status": "completed"
    },
    "tags": []
   },
   "source": [
    "# Decision Tree"
   ]
  },
  {
   "cell_type": "code",
   "execution_count": 52,
   "id": "b8268dbf",
   "metadata": {
    "execution": {
     "iopub.execute_input": "2023-10-15T08:54:19.050857Z",
     "iopub.status.busy": "2023-10-15T08:54:19.049984Z",
     "iopub.status.idle": "2023-10-15T08:54:19.054712Z",
     "shell.execute_reply": "2023-10-15T08:54:19.053769Z"
    },
    "papermill": {
     "duration": 0.032675,
     "end_time": "2023-10-15T08:54:19.056630",
     "exception": false,
     "start_time": "2023-10-15T08:54:19.023955",
     "status": "completed"
    },
    "tags": []
   },
   "outputs": [],
   "source": [
    "#cross validaion (K-Fold)\n",
    "from sklearn.model_selection import KFold\n",
    "from sklearn.model_selection import cross_val_score\n",
    "k_fold = KFold(n_splits=10, shuffle=True, random_state=0)"
   ]
  },
  {
   "cell_type": "code",
   "execution_count": 53,
   "id": "9d4e243a",
   "metadata": {
    "execution": {
     "iopub.execute_input": "2023-10-15T08:54:19.109142Z",
     "iopub.status.busy": "2023-10-15T08:54:19.108487Z",
     "iopub.status.idle": "2023-10-15T08:54:19.112751Z",
     "shell.execute_reply": "2023-10-15T08:54:19.111956Z"
    },
    "papermill": {
     "duration": 0.033552,
     "end_time": "2023-10-15T08:54:19.114729",
     "exception": false,
     "start_time": "2023-10-15T08:54:19.081177",
     "status": "completed"
    },
    "tags": []
   },
   "outputs": [],
   "source": [
    "clf = DecisionTreeClassifier()"
   ]
  },
  {
   "cell_type": "code",
   "execution_count": 54,
   "id": "aa4afc93",
   "metadata": {
    "execution": {
     "iopub.execute_input": "2023-10-15T08:54:19.169744Z",
     "iopub.status.busy": "2023-10-15T08:54:19.169186Z",
     "iopub.status.idle": "2023-10-15T08:54:19.186655Z",
     "shell.execute_reply": "2023-10-15T08:54:19.185522Z"
    },
    "papermill": {
     "duration": 0.048607,
     "end_time": "2023-10-15T08:54:19.188783",
     "exception": false,
     "start_time": "2023-10-15T08:54:19.140176",
     "status": "completed"
    },
    "tags": []
   },
   "outputs": [
    {
     "data": {
      "text/html": [
       "<style>#sk-container-id-1 {color: black;background-color: white;}#sk-container-id-1 pre{padding: 0;}#sk-container-id-1 div.sk-toggleable {background-color: white;}#sk-container-id-1 label.sk-toggleable__label {cursor: pointer;display: block;width: 100%;margin-bottom: 0;padding: 0.3em;box-sizing: border-box;text-align: center;}#sk-container-id-1 label.sk-toggleable__label-arrow:before {content: \"▸\";float: left;margin-right: 0.25em;color: #696969;}#sk-container-id-1 label.sk-toggleable__label-arrow:hover:before {color: black;}#sk-container-id-1 div.sk-estimator:hover label.sk-toggleable__label-arrow:before {color: black;}#sk-container-id-1 div.sk-toggleable__content {max-height: 0;max-width: 0;overflow: hidden;text-align: left;background-color: #f0f8ff;}#sk-container-id-1 div.sk-toggleable__content pre {margin: 0.2em;color: black;border-radius: 0.25em;background-color: #f0f8ff;}#sk-container-id-1 input.sk-toggleable__control:checked~div.sk-toggleable__content {max-height: 200px;max-width: 100%;overflow: auto;}#sk-container-id-1 input.sk-toggleable__control:checked~label.sk-toggleable__label-arrow:before {content: \"▾\";}#sk-container-id-1 div.sk-estimator input.sk-toggleable__control:checked~label.sk-toggleable__label {background-color: #d4ebff;}#sk-container-id-1 div.sk-label input.sk-toggleable__control:checked~label.sk-toggleable__label {background-color: #d4ebff;}#sk-container-id-1 input.sk-hidden--visually {border: 0;clip: rect(1px 1px 1px 1px);clip: rect(1px, 1px, 1px, 1px);height: 1px;margin: -1px;overflow: hidden;padding: 0;position: absolute;width: 1px;}#sk-container-id-1 div.sk-estimator {font-family: monospace;background-color: #f0f8ff;border: 1px dotted black;border-radius: 0.25em;box-sizing: border-box;margin-bottom: 0.5em;}#sk-container-id-1 div.sk-estimator:hover {background-color: #d4ebff;}#sk-container-id-1 div.sk-parallel-item::after {content: \"\";width: 100%;border-bottom: 1px solid gray;flex-grow: 1;}#sk-container-id-1 div.sk-label:hover label.sk-toggleable__label {background-color: #d4ebff;}#sk-container-id-1 div.sk-serial::before {content: \"\";position: absolute;border-left: 1px solid gray;box-sizing: border-box;top: 0;bottom: 0;left: 50%;z-index: 0;}#sk-container-id-1 div.sk-serial {display: flex;flex-direction: column;align-items: center;background-color: white;padding-right: 0.2em;padding-left: 0.2em;position: relative;}#sk-container-id-1 div.sk-item {position: relative;z-index: 1;}#sk-container-id-1 div.sk-parallel {display: flex;align-items: stretch;justify-content: center;background-color: white;position: relative;}#sk-container-id-1 div.sk-item::before, #sk-container-id-1 div.sk-parallel-item::before {content: \"\";position: absolute;border-left: 1px solid gray;box-sizing: border-box;top: 0;bottom: 0;left: 50%;z-index: -1;}#sk-container-id-1 div.sk-parallel-item {display: flex;flex-direction: column;z-index: 1;position: relative;background-color: white;}#sk-container-id-1 div.sk-parallel-item:first-child::after {align-self: flex-end;width: 50%;}#sk-container-id-1 div.sk-parallel-item:last-child::after {align-self: flex-start;width: 50%;}#sk-container-id-1 div.sk-parallel-item:only-child::after {width: 0;}#sk-container-id-1 div.sk-dashed-wrapped {border: 1px dashed gray;margin: 0 0.4em 0.5em 0.4em;box-sizing: border-box;padding-bottom: 0.4em;background-color: white;}#sk-container-id-1 div.sk-label label {font-family: monospace;font-weight: bold;display: inline-block;line-height: 1.2em;}#sk-container-id-1 div.sk-label-container {text-align: center;}#sk-container-id-1 div.sk-container {/* jupyter's `normalize.less` sets `[hidden] { display: none; }` but bootstrap.min.css set `[hidden] { display: none !important; }` so we also need the `!important` here to be able to override the default hidden behavior on the sphinx rendered scikit-learn.org. See: https://github.com/scikit-learn/scikit-learn/issues/21755 */display: inline-block !important;position: relative;}#sk-container-id-1 div.sk-text-repr-fallback {display: none;}</style><div id=\"sk-container-id-1\" class=\"sk-top-container\"><div class=\"sk-text-repr-fallback\"><pre>DecisionTreeClassifier()</pre><b>In a Jupyter environment, please rerun this cell to show the HTML representation or trust the notebook. <br />On GitHub, the HTML representation is unable to render, please try loading this page with nbviewer.org.</b></div><div class=\"sk-container\" hidden><div class=\"sk-item\"><div class=\"sk-estimator sk-toggleable\"><input class=\"sk-toggleable__control sk-hidden--visually\" id=\"sk-estimator-id-1\" type=\"checkbox\" checked><label for=\"sk-estimator-id-1\" class=\"sk-toggleable__label sk-toggleable__label-arrow\">DecisionTreeClassifier</label><div class=\"sk-toggleable__content\"><pre>DecisionTreeClassifier()</pre></div></div></div></div></div>"
      ],
      "text/plain": [
       "DecisionTreeClassifier()"
      ]
     },
     "execution_count": 54,
     "metadata": {},
     "output_type": "execute_result"
    }
   ],
   "source": [
    "clf.fit(X_train, y_train)"
   ]
  },
  {
   "cell_type": "code",
   "execution_count": 55,
   "id": "8319f545",
   "metadata": {
    "execution": {
     "iopub.execute_input": "2023-10-15T08:54:19.241494Z",
     "iopub.status.busy": "2023-10-15T08:54:19.241112Z",
     "iopub.status.idle": "2023-10-15T08:54:19.250352Z",
     "shell.execute_reply": "2023-10-15T08:54:19.249168Z"
    },
    "papermill": {
     "duration": 0.037468,
     "end_time": "2023-10-15T08:54:19.252195",
     "exception": false,
     "start_time": "2023-10-15T08:54:19.214727",
     "status": "completed"
    },
    "tags": []
   },
   "outputs": [
    {
     "name": "stdout",
     "output_type": "stream",
     "text": [
      "Prediction :\n",
      " [0 1 0 1 1 0 0 0 0 0]\n",
      "Actual_result :\n",
      " [0, 1, 0, 1, 1, 0, 0, 0, 0, 0]\n"
     ]
    }
   ],
   "source": [
    "print(\"Prediction :\\n\", np.round(clf.predict(X_train[:10])))\n",
    "print(\"Actual_result :\\n\", list(y_train[:10]))"
   ]
  },
  {
   "cell_type": "code",
   "execution_count": 56,
   "id": "9e47daa9",
   "metadata": {
    "execution": {
     "iopub.execute_input": "2023-10-15T08:54:19.305545Z",
     "iopub.status.busy": "2023-10-15T08:54:19.304438Z",
     "iopub.status.idle": "2023-10-15T08:54:19.384228Z",
     "shell.execute_reply": "2023-10-15T08:54:19.382970Z"
    },
    "papermill": {
     "duration": 0.108596,
     "end_time": "2023-10-15T08:54:19.386489",
     "exception": false,
     "start_time": "2023-10-15T08:54:19.277893",
     "status": "completed"
    },
    "tags": []
   },
   "outputs": [
    {
     "name": "stdout",
     "output_type": "stream",
     "text": [
      "[0.69662921 0.79775281 0.80898876 0.76404494 0.85393258 0.7752809\n",
      " 0.82022472 0.71910112 0.80898876 0.75      ]\n"
     ]
    }
   ],
   "source": [
    "scoring = 'accuracy'\n",
    "score = cross_val_score(clf, X, y, cv=k_fold, n_jobs=1, scoring=scoring)\n",
    "print(score)"
   ]
  },
  {
   "cell_type": "code",
   "execution_count": 57,
   "id": "7cb34079",
   "metadata": {
    "execution": {
     "iopub.execute_input": "2023-10-15T08:54:19.439330Z",
     "iopub.status.busy": "2023-10-15T08:54:19.438600Z",
     "iopub.status.idle": "2023-10-15T08:54:19.445143Z",
     "shell.execute_reply": "2023-10-15T08:54:19.444384Z"
    },
    "papermill": {
     "duration": 0.035258,
     "end_time": "2023-10-15T08:54:19.447140",
     "exception": false,
     "start_time": "2023-10-15T08:54:19.411882",
     "status": "completed"
    },
    "tags": []
   },
   "outputs": [
    {
     "data": {
      "text/plain": [
       "77.95"
      ]
     },
     "execution_count": 57,
     "metadata": {},
     "output_type": "execute_result"
    }
   ],
   "source": [
    "round(np.mean(score)*100, 2)"
   ]
  },
  {
   "cell_type": "code",
   "execution_count": 58,
   "id": "afe11d73",
   "metadata": {
    "execution": {
     "iopub.execute_input": "2023-10-15T08:54:19.500025Z",
     "iopub.status.busy": "2023-10-15T08:54:19.499312Z",
     "iopub.status.idle": "2023-10-15T08:54:19.507814Z",
     "shell.execute_reply": "2023-10-15T08:54:19.506642Z"
    },
    "papermill": {
     "duration": 0.037934,
     "end_time": "2023-10-15T08:54:19.510170",
     "exception": false,
     "start_time": "2023-10-15T08:54:19.472236",
     "status": "completed"
    },
    "tags": []
   },
   "outputs": [
    {
     "name": "stdout",
     "output_type": "stream",
     "text": [
      "0.23\n"
     ]
    }
   ],
   "source": [
    "from sklearn.metrics import mean_absolute_error\n",
    "y_pred= clf.predict(X_test)\n",
    "clf_rmae = mean_absolute_error(y_test, y_pred)\n",
    "print(\"%.2f\" %clf_rmae)"
   ]
  },
  {
   "cell_type": "markdown",
   "id": "cd53f557",
   "metadata": {
    "papermill": {
     "duration": 0.025429,
     "end_time": "2023-10-15T08:54:19.561501",
     "exception": false,
     "start_time": "2023-10-15T08:54:19.536072",
     "status": "completed"
    },
    "tags": []
   },
   "source": [
    "mean absolute error is not high. Decision Tree is good model."
   ]
  },
  {
   "cell_type": "markdown",
   "id": "0fe0a3dc",
   "metadata": {
    "papermill": {
     "duration": 0.025983,
     "end_time": "2023-10-15T08:54:19.620999",
     "exception": false,
     "start_time": "2023-10-15T08:54:19.595016",
     "status": "completed"
    },
    "tags": []
   },
   "source": [
    "# KNN"
   ]
  },
  {
   "cell_type": "code",
   "execution_count": 59,
   "id": "188b48d6",
   "metadata": {
    "execution": {
     "iopub.execute_input": "2023-10-15T08:54:19.673706Z",
     "iopub.status.busy": "2023-10-15T08:54:19.673055Z",
     "iopub.status.idle": "2023-10-15T08:54:19.681983Z",
     "shell.execute_reply": "2023-10-15T08:54:19.681259Z"
    },
    "papermill": {
     "duration": 0.037355,
     "end_time": "2023-10-15T08:54:19.683789",
     "exception": false,
     "start_time": "2023-10-15T08:54:19.646434",
     "status": "completed"
    },
    "tags": []
   },
   "outputs": [
    {
     "data": {
      "text/html": [
       "<style>#sk-container-id-2 {color: black;background-color: white;}#sk-container-id-2 pre{padding: 0;}#sk-container-id-2 div.sk-toggleable {background-color: white;}#sk-container-id-2 label.sk-toggleable__label {cursor: pointer;display: block;width: 100%;margin-bottom: 0;padding: 0.3em;box-sizing: border-box;text-align: center;}#sk-container-id-2 label.sk-toggleable__label-arrow:before {content: \"▸\";float: left;margin-right: 0.25em;color: #696969;}#sk-container-id-2 label.sk-toggleable__label-arrow:hover:before {color: black;}#sk-container-id-2 div.sk-estimator:hover label.sk-toggleable__label-arrow:before {color: black;}#sk-container-id-2 div.sk-toggleable__content {max-height: 0;max-width: 0;overflow: hidden;text-align: left;background-color: #f0f8ff;}#sk-container-id-2 div.sk-toggleable__content pre {margin: 0.2em;color: black;border-radius: 0.25em;background-color: #f0f8ff;}#sk-container-id-2 input.sk-toggleable__control:checked~div.sk-toggleable__content {max-height: 200px;max-width: 100%;overflow: auto;}#sk-container-id-2 input.sk-toggleable__control:checked~label.sk-toggleable__label-arrow:before {content: \"▾\";}#sk-container-id-2 div.sk-estimator input.sk-toggleable__control:checked~label.sk-toggleable__label {background-color: #d4ebff;}#sk-container-id-2 div.sk-label input.sk-toggleable__control:checked~label.sk-toggleable__label {background-color: #d4ebff;}#sk-container-id-2 input.sk-hidden--visually {border: 0;clip: rect(1px 1px 1px 1px);clip: rect(1px, 1px, 1px, 1px);height: 1px;margin: -1px;overflow: hidden;padding: 0;position: absolute;width: 1px;}#sk-container-id-2 div.sk-estimator {font-family: monospace;background-color: #f0f8ff;border: 1px dotted black;border-radius: 0.25em;box-sizing: border-box;margin-bottom: 0.5em;}#sk-container-id-2 div.sk-estimator:hover {background-color: #d4ebff;}#sk-container-id-2 div.sk-parallel-item::after {content: \"\";width: 100%;border-bottom: 1px solid gray;flex-grow: 1;}#sk-container-id-2 div.sk-label:hover label.sk-toggleable__label {background-color: #d4ebff;}#sk-container-id-2 div.sk-serial::before {content: \"\";position: absolute;border-left: 1px solid gray;box-sizing: border-box;top: 0;bottom: 0;left: 50%;z-index: 0;}#sk-container-id-2 div.sk-serial {display: flex;flex-direction: column;align-items: center;background-color: white;padding-right: 0.2em;padding-left: 0.2em;position: relative;}#sk-container-id-2 div.sk-item {position: relative;z-index: 1;}#sk-container-id-2 div.sk-parallel {display: flex;align-items: stretch;justify-content: center;background-color: white;position: relative;}#sk-container-id-2 div.sk-item::before, #sk-container-id-2 div.sk-parallel-item::before {content: \"\";position: absolute;border-left: 1px solid gray;box-sizing: border-box;top: 0;bottom: 0;left: 50%;z-index: -1;}#sk-container-id-2 div.sk-parallel-item {display: flex;flex-direction: column;z-index: 1;position: relative;background-color: white;}#sk-container-id-2 div.sk-parallel-item:first-child::after {align-self: flex-end;width: 50%;}#sk-container-id-2 div.sk-parallel-item:last-child::after {align-self: flex-start;width: 50%;}#sk-container-id-2 div.sk-parallel-item:only-child::after {width: 0;}#sk-container-id-2 div.sk-dashed-wrapped {border: 1px dashed gray;margin: 0 0.4em 0.5em 0.4em;box-sizing: border-box;padding-bottom: 0.4em;background-color: white;}#sk-container-id-2 div.sk-label label {font-family: monospace;font-weight: bold;display: inline-block;line-height: 1.2em;}#sk-container-id-2 div.sk-label-container {text-align: center;}#sk-container-id-2 div.sk-container {/* jupyter's `normalize.less` sets `[hidden] { display: none; }` but bootstrap.min.css set `[hidden] { display: none !important; }` so we also need the `!important` here to be able to override the default hidden behavior on the sphinx rendered scikit-learn.org. See: https://github.com/scikit-learn/scikit-learn/issues/21755 */display: inline-block !important;position: relative;}#sk-container-id-2 div.sk-text-repr-fallback {display: none;}</style><div id=\"sk-container-id-2\" class=\"sk-top-container\"><div class=\"sk-text-repr-fallback\"><pre>KNeighborsClassifier()</pre><b>In a Jupyter environment, please rerun this cell to show the HTML representation or trust the notebook. <br />On GitHub, the HTML representation is unable to render, please try loading this page with nbviewer.org.</b></div><div class=\"sk-container\" hidden><div class=\"sk-item\"><div class=\"sk-estimator sk-toggleable\"><input class=\"sk-toggleable__control sk-hidden--visually\" id=\"sk-estimator-id-2\" type=\"checkbox\" checked><label for=\"sk-estimator-id-2\" class=\"sk-toggleable__label sk-toggleable__label-arrow\">KNeighborsClassifier</label><div class=\"sk-toggleable__content\"><pre>KNeighborsClassifier()</pre></div></div></div></div></div>"
      ],
      "text/plain": [
       "KNeighborsClassifier()"
      ]
     },
     "execution_count": 59,
     "metadata": {},
     "output_type": "execute_result"
    }
   ],
   "source": [
    "knn = KNeighborsClassifier(n_neighbors = 5)\n",
    "knn.fit(X_train, y_train)"
   ]
  },
  {
   "cell_type": "code",
   "execution_count": 60,
   "id": "2e1cdb3b",
   "metadata": {
    "execution": {
     "iopub.execute_input": "2023-10-15T08:54:19.737322Z",
     "iopub.status.busy": "2023-10-15T08:54:19.736678Z",
     "iopub.status.idle": "2023-10-15T08:54:19.744400Z",
     "shell.execute_reply": "2023-10-15T08:54:19.743230Z"
    },
    "papermill": {
     "duration": 0.036355,
     "end_time": "2023-10-15T08:54:19.746190",
     "exception": false,
     "start_time": "2023-10-15T08:54:19.709835",
     "status": "completed"
    },
    "tags": []
   },
   "outputs": [
    {
     "name": "stdout",
     "output_type": "stream",
     "text": [
      "Prediction :\n",
      " [0 1 0 1 1 0 0 0 0 0]\n",
      "Actual_result :\n",
      " [0, 1, 0, 1, 1, 0, 0, 0, 0, 0]\n"
     ]
    }
   ],
   "source": [
    "print(\"Prediction :\\n\", np.round(clf.predict(X_train[:10])))\n",
    "print(\"Actual_result :\\n\", list(y_train[:10]))"
   ]
  },
  {
   "cell_type": "code",
   "execution_count": 61,
   "id": "2e49211d",
   "metadata": {
    "execution": {
     "iopub.execute_input": "2023-10-15T08:54:19.800920Z",
     "iopub.status.busy": "2023-10-15T08:54:19.799704Z",
     "iopub.status.idle": "2023-10-15T08:54:19.920276Z",
     "shell.execute_reply": "2023-10-15T08:54:19.919077Z"
    },
    "papermill": {
     "duration": 0.150122,
     "end_time": "2023-10-15T08:54:19.922274",
     "exception": false,
     "start_time": "2023-10-15T08:54:19.772152",
     "status": "completed"
    },
    "tags": []
   },
   "outputs": [
    {
     "name": "stdout",
     "output_type": "stream",
     "text": [
      "[0.57303371 0.62921348 0.65168539 0.71910112 0.7752809  0.70786517\n",
      " 0.66292135 0.61797753 0.5505618  0.54545455]\n"
     ]
    }
   ],
   "source": [
    "scoring = 'accuracy'\n",
    "score = cross_val_score(knn, X, y, cv=k_fold, n_jobs=1, scoring=scoring)\n",
    "print(score)"
   ]
  },
  {
   "cell_type": "code",
   "execution_count": 62,
   "id": "de493f66",
   "metadata": {
    "execution": {
     "iopub.execute_input": "2023-10-15T08:54:19.976401Z",
     "iopub.status.busy": "2023-10-15T08:54:19.975806Z",
     "iopub.status.idle": "2023-10-15T08:54:19.981050Z",
     "shell.execute_reply": "2023-10-15T08:54:19.980385Z"
    },
    "papermill": {
     "duration": 0.0349,
     "end_time": "2023-10-15T08:54:19.982822",
     "exception": false,
     "start_time": "2023-10-15T08:54:19.947922",
     "status": "completed"
    },
    "tags": []
   },
   "outputs": [
    {
     "data": {
      "text/plain": [
       "64.33"
      ]
     },
     "execution_count": 62,
     "metadata": {},
     "output_type": "execute_result"
    }
   ],
   "source": [
    "round(np.mean(score)*100, 2)"
   ]
  },
  {
   "cell_type": "code",
   "execution_count": 63,
   "id": "71a5e76b",
   "metadata": {
    "execution": {
     "iopub.execute_input": "2023-10-15T08:54:20.038226Z",
     "iopub.status.busy": "2023-10-15T08:54:20.037333Z",
     "iopub.status.idle": "2023-10-15T08:54:20.056615Z",
     "shell.execute_reply": "2023-10-15T08:54:20.055399Z"
    },
    "papermill": {
     "duration": 0.049446,
     "end_time": "2023-10-15T08:54:20.058631",
     "exception": false,
     "start_time": "2023-10-15T08:54:20.009185",
     "status": "completed"
    },
    "tags": []
   },
   "outputs": [
    {
     "name": "stdout",
     "output_type": "stream",
     "text": [
      "0.39\n"
     ]
    }
   ],
   "source": [
    "y_pred= knn.predict(X_test)\n",
    "knn_rmae = mean_absolute_error(y_test, y_pred)\n",
    "print(\"%.2f\" %knn_rmae)"
   ]
  },
  {
   "cell_type": "markdown",
   "id": "700aec4b",
   "metadata": {
    "papermill": {
     "duration": 0.026596,
     "end_time": "2023-10-15T08:54:20.112332",
     "exception": false,
     "start_time": "2023-10-15T08:54:20.085736",
     "status": "completed"
    },
    "tags": []
   },
   "source": [
    "Decision Tree is better than KNN as mean absolute error is higher than that in decision tree."
   ]
  },
  {
   "cell_type": "markdown",
   "id": "bdf12e0b",
   "metadata": {
    "papermill": {
     "duration": 0.027215,
     "end_time": "2023-10-15T08:54:20.167519",
     "exception": false,
     "start_time": "2023-10-15T08:54:20.140304",
     "status": "completed"
    },
    "tags": []
   },
   "source": [
    "# Random Forest"
   ]
  },
  {
   "cell_type": "code",
   "execution_count": 64,
   "id": "2bcf3733",
   "metadata": {
    "execution": {
     "iopub.execute_input": "2023-10-15T08:54:20.220635Z",
     "iopub.status.busy": "2023-10-15T08:54:20.220285Z",
     "iopub.status.idle": "2023-10-15T08:54:20.243543Z",
     "shell.execute_reply": "2023-10-15T08:54:20.242377Z"
    },
    "papermill": {
     "duration": 0.052978,
     "end_time": "2023-10-15T08:54:20.246006",
     "exception": false,
     "start_time": "2023-10-15T08:54:20.193028",
     "status": "completed"
    },
    "tags": []
   },
   "outputs": [
    {
     "data": {
      "text/html": [
       "<style>#sk-container-id-3 {color: black;background-color: white;}#sk-container-id-3 pre{padding: 0;}#sk-container-id-3 div.sk-toggleable {background-color: white;}#sk-container-id-3 label.sk-toggleable__label {cursor: pointer;display: block;width: 100%;margin-bottom: 0;padding: 0.3em;box-sizing: border-box;text-align: center;}#sk-container-id-3 label.sk-toggleable__label-arrow:before {content: \"▸\";float: left;margin-right: 0.25em;color: #696969;}#sk-container-id-3 label.sk-toggleable__label-arrow:hover:before {color: black;}#sk-container-id-3 div.sk-estimator:hover label.sk-toggleable__label-arrow:before {color: black;}#sk-container-id-3 div.sk-toggleable__content {max-height: 0;max-width: 0;overflow: hidden;text-align: left;background-color: #f0f8ff;}#sk-container-id-3 div.sk-toggleable__content pre {margin: 0.2em;color: black;border-radius: 0.25em;background-color: #f0f8ff;}#sk-container-id-3 input.sk-toggleable__control:checked~div.sk-toggleable__content {max-height: 200px;max-width: 100%;overflow: auto;}#sk-container-id-3 input.sk-toggleable__control:checked~label.sk-toggleable__label-arrow:before {content: \"▾\";}#sk-container-id-3 div.sk-estimator input.sk-toggleable__control:checked~label.sk-toggleable__label {background-color: #d4ebff;}#sk-container-id-3 div.sk-label input.sk-toggleable__control:checked~label.sk-toggleable__label {background-color: #d4ebff;}#sk-container-id-3 input.sk-hidden--visually {border: 0;clip: rect(1px 1px 1px 1px);clip: rect(1px, 1px, 1px, 1px);height: 1px;margin: -1px;overflow: hidden;padding: 0;position: absolute;width: 1px;}#sk-container-id-3 div.sk-estimator {font-family: monospace;background-color: #f0f8ff;border: 1px dotted black;border-radius: 0.25em;box-sizing: border-box;margin-bottom: 0.5em;}#sk-container-id-3 div.sk-estimator:hover {background-color: #d4ebff;}#sk-container-id-3 div.sk-parallel-item::after {content: \"\";width: 100%;border-bottom: 1px solid gray;flex-grow: 1;}#sk-container-id-3 div.sk-label:hover label.sk-toggleable__label {background-color: #d4ebff;}#sk-container-id-3 div.sk-serial::before {content: \"\";position: absolute;border-left: 1px solid gray;box-sizing: border-box;top: 0;bottom: 0;left: 50%;z-index: 0;}#sk-container-id-3 div.sk-serial {display: flex;flex-direction: column;align-items: center;background-color: white;padding-right: 0.2em;padding-left: 0.2em;position: relative;}#sk-container-id-3 div.sk-item {position: relative;z-index: 1;}#sk-container-id-3 div.sk-parallel {display: flex;align-items: stretch;justify-content: center;background-color: white;position: relative;}#sk-container-id-3 div.sk-item::before, #sk-container-id-3 div.sk-parallel-item::before {content: \"\";position: absolute;border-left: 1px solid gray;box-sizing: border-box;top: 0;bottom: 0;left: 50%;z-index: -1;}#sk-container-id-3 div.sk-parallel-item {display: flex;flex-direction: column;z-index: 1;position: relative;background-color: white;}#sk-container-id-3 div.sk-parallel-item:first-child::after {align-self: flex-end;width: 50%;}#sk-container-id-3 div.sk-parallel-item:last-child::after {align-self: flex-start;width: 50%;}#sk-container-id-3 div.sk-parallel-item:only-child::after {width: 0;}#sk-container-id-3 div.sk-dashed-wrapped {border: 1px dashed gray;margin: 0 0.4em 0.5em 0.4em;box-sizing: border-box;padding-bottom: 0.4em;background-color: white;}#sk-container-id-3 div.sk-label label {font-family: monospace;font-weight: bold;display: inline-block;line-height: 1.2em;}#sk-container-id-3 div.sk-label-container {text-align: center;}#sk-container-id-3 div.sk-container {/* jupyter's `normalize.less` sets `[hidden] { display: none; }` but bootstrap.min.css set `[hidden] { display: none !important; }` so we also need the `!important` here to be able to override the default hidden behavior on the sphinx rendered scikit-learn.org. See: https://github.com/scikit-learn/scikit-learn/issues/21755 */display: inline-block !important;position: relative;}#sk-container-id-3 div.sk-text-repr-fallback {display: none;}</style><div id=\"sk-container-id-3\" class=\"sk-top-container\"><div class=\"sk-text-repr-fallback\"><pre>RandomForestClassifier(n_estimators=5)</pre><b>In a Jupyter environment, please rerun this cell to show the HTML representation or trust the notebook. <br />On GitHub, the HTML representation is unable to render, please try loading this page with nbviewer.org.</b></div><div class=\"sk-container\" hidden><div class=\"sk-item\"><div class=\"sk-estimator sk-toggleable\"><input class=\"sk-toggleable__control sk-hidden--visually\" id=\"sk-estimator-id-3\" type=\"checkbox\" checked><label for=\"sk-estimator-id-3\" class=\"sk-toggleable__label sk-toggleable__label-arrow\">RandomForestClassifier</label><div class=\"sk-toggleable__content\"><pre>RandomForestClassifier(n_estimators=5)</pre></div></div></div></div></div>"
      ],
      "text/plain": [
       "RandomForestClassifier(n_estimators=5)"
      ]
     },
     "execution_count": 64,
     "metadata": {},
     "output_type": "execute_result"
    }
   ],
   "source": [
    "rf = RandomForestClassifier(n_estimators=5)\n",
    "rf.fit(X_train, y_train)"
   ]
  },
  {
   "cell_type": "code",
   "execution_count": 65,
   "id": "03615784",
   "metadata": {
    "execution": {
     "iopub.execute_input": "2023-10-15T08:54:20.300562Z",
     "iopub.status.busy": "2023-10-15T08:54:20.299683Z",
     "iopub.status.idle": "2023-10-15T08:54:20.308953Z",
     "shell.execute_reply": "2023-10-15T08:54:20.307770Z"
    },
    "papermill": {
     "duration": 0.038591,
     "end_time": "2023-10-15T08:54:20.311104",
     "exception": false,
     "start_time": "2023-10-15T08:54:20.272513",
     "status": "completed"
    },
    "tags": []
   },
   "outputs": [
    {
     "name": "stdout",
     "output_type": "stream",
     "text": [
      "Prediction :\n",
      " [0 1 0 1 1 0 0 0 0 0]\n",
      "Actual_result :\n",
      " [0, 1, 0, 1, 1, 0, 0, 0, 0, 0]\n"
     ]
    }
   ],
   "source": [
    "print(\"Prediction :\\n\", np.round(rf.predict(X_train[:10])))\n",
    "print(\"Actual_result :\\n\", list(y_train[:10]))"
   ]
  },
  {
   "cell_type": "code",
   "execution_count": 66,
   "id": "9dbc2037",
   "metadata": {
    "execution": {
     "iopub.execute_input": "2023-10-15T08:54:20.366812Z",
     "iopub.status.busy": "2023-10-15T08:54:20.366417Z",
     "iopub.status.idle": "2023-10-15T08:54:20.540516Z",
     "shell.execute_reply": "2023-10-15T08:54:20.539284Z"
    },
    "papermill": {
     "duration": 0.205147,
     "end_time": "2023-10-15T08:54:20.542999",
     "exception": false,
     "start_time": "2023-10-15T08:54:20.337852",
     "status": "completed"
    },
    "tags": []
   },
   "outputs": [
    {
     "name": "stdout",
     "output_type": "stream",
     "text": [
      "[0.71910112 0.80898876 0.87640449 0.82022472 0.87640449 0.82022472\n",
      " 0.84269663 0.76404494 0.82022472 0.80681818]\n"
     ]
    }
   ],
   "source": [
    "scoring = 'accuracy'\n",
    "score = cross_val_score(rf, X, y, cv=k_fold, n_jobs=1, scoring=scoring)\n",
    "print(score)"
   ]
  },
  {
   "cell_type": "code",
   "execution_count": 67,
   "id": "22aad94d",
   "metadata": {
    "execution": {
     "iopub.execute_input": "2023-10-15T08:54:20.596736Z",
     "iopub.status.busy": "2023-10-15T08:54:20.596014Z",
     "iopub.status.idle": "2023-10-15T08:54:20.603015Z",
     "shell.execute_reply": "2023-10-15T08:54:20.602280Z"
    },
    "papermill": {
     "duration": 0.035859,
     "end_time": "2023-10-15T08:54:20.604901",
     "exception": false,
     "start_time": "2023-10-15T08:54:20.569042",
     "status": "completed"
    },
    "tags": []
   },
   "outputs": [
    {
     "data": {
      "text/plain": [
       "81.55"
      ]
     },
     "execution_count": 67,
     "metadata": {},
     "output_type": "execute_result"
    }
   ],
   "source": [
    "round(np.mean(score)*100, 2)"
   ]
  },
  {
   "cell_type": "code",
   "execution_count": 68,
   "id": "b7b8cc32",
   "metadata": {
    "execution": {
     "iopub.execute_input": "2023-10-15T08:54:20.659727Z",
     "iopub.status.busy": "2023-10-15T08:54:20.658701Z",
     "iopub.status.idle": "2023-10-15T08:54:20.669656Z",
     "shell.execute_reply": "2023-10-15T08:54:20.668452Z"
    },
    "papermill": {
     "duration": 0.040967,
     "end_time": "2023-10-15T08:54:20.671676",
     "exception": false,
     "start_time": "2023-10-15T08:54:20.630709",
     "status": "completed"
    },
    "tags": []
   },
   "outputs": [
    {
     "name": "stdout",
     "output_type": "stream",
     "text": [
      "0.26\n"
     ]
    }
   ],
   "source": [
    "y_pred= rf.predict(X_test)\n",
    "rf_rmae = mean_absolute_error(y_test, y_pred)\n",
    "print(\"%.2f\" %rf_rmae)"
   ]
  },
  {
   "cell_type": "markdown",
   "id": "b314b435",
   "metadata": {
    "papermill": {
     "duration": 0.026917,
     "end_time": "2023-10-15T08:54:20.724668",
     "exception": false,
     "start_time": "2023-10-15T08:54:20.697751",
     "status": "completed"
    },
    "tags": []
   },
   "source": [
    "Random Forrst is better than KNN but still Decision Tree is the best so far. "
   ]
  },
  {
   "cell_type": "markdown",
   "id": "d56004a0",
   "metadata": {
    "papermill": {
     "duration": 0.025887,
     "end_time": "2023-10-15T08:54:20.776970",
     "exception": false,
     "start_time": "2023-10-15T08:54:20.751083",
     "status": "completed"
    },
    "tags": []
   },
   "source": [
    "# SVC"
   ]
  },
  {
   "cell_type": "code",
   "execution_count": 69,
   "id": "c52e1d93",
   "metadata": {
    "execution": {
     "iopub.execute_input": "2023-10-15T08:54:20.831435Z",
     "iopub.status.busy": "2023-10-15T08:54:20.830965Z",
     "iopub.status.idle": "2023-10-15T08:54:20.835453Z",
     "shell.execute_reply": "2023-10-15T08:54:20.834423Z"
    },
    "papermill": {
     "duration": 0.033846,
     "end_time": "2023-10-15T08:54:20.837433",
     "exception": false,
     "start_time": "2023-10-15T08:54:20.803587",
     "status": "completed"
    },
    "tags": []
   },
   "outputs": [],
   "source": [
    "svc = SVC()"
   ]
  },
  {
   "cell_type": "code",
   "execution_count": 70,
   "id": "c0d0b9fc",
   "metadata": {
    "execution": {
     "iopub.execute_input": "2023-10-15T08:54:20.893004Z",
     "iopub.status.busy": "2023-10-15T08:54:20.892665Z",
     "iopub.status.idle": "2023-10-15T08:54:20.897161Z",
     "shell.execute_reply": "2023-10-15T08:54:20.896178Z"
    },
    "papermill": {
     "duration": 0.034911,
     "end_time": "2023-10-15T08:54:20.899177",
     "exception": false,
     "start_time": "2023-10-15T08:54:20.864266",
     "status": "completed"
    },
    "tags": []
   },
   "outputs": [],
   "source": [
    "C = [0.1, 1, 10]\n",
    "gamma= [0.01, 0.1, 1 ]\n",
    "svc_param_grid = {'kernel': ['rbf'],\n",
    "                  'gamma': gamma,\n",
    "                  'C': C}"
   ]
  },
  {
   "cell_type": "code",
   "execution_count": 71,
   "id": "9c51dc96",
   "metadata": {
    "execution": {
     "iopub.execute_input": "2023-10-15T08:54:20.955328Z",
     "iopub.status.busy": "2023-10-15T08:54:20.954664Z",
     "iopub.status.idle": "2023-10-15T08:54:23.889902Z",
     "shell.execute_reply": "2023-10-15T08:54:23.888720Z"
    },
    "papermill": {
     "duration": 2.965353,
     "end_time": "2023-10-15T08:54:23.891953",
     "exception": false,
     "start_time": "2023-10-15T08:54:20.926600",
     "status": "completed"
    },
    "tags": []
   },
   "outputs": [
    {
     "name": "stdout",
     "output_type": "stream",
     "text": [
      "Fitting 10 folds for each of 9 candidates, totalling 90 fits\n",
      "{'C': 1, 'break_ties': False, 'cache_size': 200, 'class_weight': None, 'coef0': 0.0, 'decision_function_shape': 'ovr', 'degree': 3, 'gamma': 0.01, 'kernel': 'rbf', 'max_iter': -1, 'probability': False, 'random_state': None, 'shrinking': True, 'tol': 0.001, 'verbose': False}\n"
     ]
    }
   ],
   "source": [
    "from sklearn.model_selection import GridSearchCV\n",
    "SVCgs = GridSearchCV(svc,param_grid = svc_param_grid, cv=k_fold, scoring=\"accuracy\", n_jobs= 1, verbose = 1)\n",
    "\n",
    "SVCgs.fit(X_train,y_train)\n",
    "\n",
    "SVMC_best = SVCgs.best_estimator_\n",
    "\n",
    "print(SVMC_best.get_params())"
   ]
  },
  {
   "cell_type": "code",
   "execution_count": 72,
   "id": "6952258a",
   "metadata": {
    "execution": {
     "iopub.execute_input": "2023-10-15T08:54:23.947024Z",
     "iopub.status.busy": "2023-10-15T08:54:23.946688Z",
     "iopub.status.idle": "2023-10-15T08:54:23.955565Z",
     "shell.execute_reply": "2023-10-15T08:54:23.954238Z"
    },
    "papermill": {
     "duration": 0.038722,
     "end_time": "2023-10-15T08:54:23.957454",
     "exception": false,
     "start_time": "2023-10-15T08:54:23.918732",
     "status": "completed"
    },
    "tags": []
   },
   "outputs": [
    {
     "name": "stdout",
     "output_type": "stream",
     "text": [
      "Prediction :\n",
      " [0 1 0 1 1 0 0 0 0 0]\n",
      "Actual_result :\n",
      " [0, 1, 0, 1, 1, 0, 0, 0, 0, 0]\n"
     ]
    }
   ],
   "source": [
    "print(\"Prediction :\\n\", np.round(SVCgs.predict(X_train[:10])))\n",
    "print(\"Actual_result :\\n\", list(y_train[:10]))"
   ]
  },
  {
   "cell_type": "code",
   "execution_count": 73,
   "id": "28efe673",
   "metadata": {
    "execution": {
     "iopub.execute_input": "2023-10-15T08:54:24.014406Z",
     "iopub.status.busy": "2023-10-15T08:54:24.013464Z",
     "iopub.status.idle": "2023-10-15T08:54:24.327477Z",
     "shell.execute_reply": "2023-10-15T08:54:24.326307Z"
    },
    "papermill": {
     "duration": 0.345075,
     "end_time": "2023-10-15T08:54:24.329626",
     "exception": false,
     "start_time": "2023-10-15T08:54:23.984551",
     "status": "completed"
    },
    "tags": []
   },
   "outputs": [
    {
     "name": "stdout",
     "output_type": "stream",
     "text": [
      "[0.60674157 0.65168539 0.64044944 0.74157303 0.68539326 0.6741573\n",
      " 0.68539326 0.62921348 0.66292135 0.59090909]\n"
     ]
    }
   ],
   "source": [
    "scoring = 'accuracy'\n",
    "score = cross_val_score(svc, X, y, cv=k_fold, n_jobs=1, scoring=scoring)\n",
    "print(score)"
   ]
  },
  {
   "cell_type": "code",
   "execution_count": 74,
   "id": "2fa7511e",
   "metadata": {
    "execution": {
     "iopub.execute_input": "2023-10-15T08:54:24.384258Z",
     "iopub.status.busy": "2023-10-15T08:54:24.383409Z",
     "iopub.status.idle": "2023-10-15T08:54:24.390913Z",
     "shell.execute_reply": "2023-10-15T08:54:24.389819Z"
    },
    "papermill": {
     "duration": 0.036942,
     "end_time": "2023-10-15T08:54:24.392929",
     "exception": false,
     "start_time": "2023-10-15T08:54:24.355987",
     "status": "completed"
    },
    "tags": []
   },
   "outputs": [
    {
     "data": {
      "text/plain": [
       "65.68"
      ]
     },
     "execution_count": 74,
     "metadata": {},
     "output_type": "execute_result"
    }
   ],
   "source": [
    "round(np.mean(score)*100,2)"
   ]
  },
  {
   "cell_type": "code",
   "execution_count": 75,
   "id": "6d598afd",
   "metadata": {
    "execution": {
     "iopub.execute_input": "2023-10-15T08:54:24.448501Z",
     "iopub.status.busy": "2023-10-15T08:54:24.447551Z",
     "iopub.status.idle": "2023-10-15T08:54:24.464449Z",
     "shell.execute_reply": "2023-10-15T08:54:24.463395Z"
    },
    "papermill": {
     "duration": 0.046639,
     "end_time": "2023-10-15T08:54:24.466352",
     "exception": false,
     "start_time": "2023-10-15T08:54:24.419713",
     "status": "completed"
    },
    "tags": []
   },
   "outputs": [
    {
     "name": "stdout",
     "output_type": "stream",
     "text": [
      "0.44\n"
     ]
    }
   ],
   "source": [
    "y_pred= SVCgs.predict(X_test)\n",
    "svc_rmae = mean_absolute_error(y_test, y_pred)\n",
    "print(\"%.2f\" %svc_rmae)"
   ]
  },
  {
   "cell_type": "markdown",
   "id": "7428a2d9",
   "metadata": {
    "papermill": {
     "duration": 0.027675,
     "end_time": "2023-10-15T08:54:24.520477",
     "exception": false,
     "start_time": "2023-10-15T08:54:24.492802",
     "status": "completed"
    },
    "tags": []
   },
   "source": [
    "SVC is not a good choice at all"
   ]
  },
  {
   "cell_type": "markdown",
   "id": "8d2fc3b3",
   "metadata": {
    "papermill": {
     "duration": 0.026345,
     "end_time": "2023-10-15T08:54:24.573820",
     "exception": false,
     "start_time": "2023-10-15T08:54:24.547475",
     "status": "completed"
    },
    "tags": []
   },
   "source": [
    "# XGboost"
   ]
  },
  {
   "cell_type": "code",
   "execution_count": 76,
   "id": "a1488b45",
   "metadata": {
    "execution": {
     "iopub.execute_input": "2023-10-15T08:54:24.628597Z",
     "iopub.status.busy": "2023-10-15T08:54:24.627912Z",
     "iopub.status.idle": "2023-10-15T08:54:24.632369Z",
     "shell.execute_reply": "2023-10-15T08:54:24.631620Z"
    },
    "papermill": {
     "duration": 0.034169,
     "end_time": "2023-10-15T08:54:24.634328",
     "exception": false,
     "start_time": "2023-10-15T08:54:24.600159",
     "status": "completed"
    },
    "tags": []
   },
   "outputs": [],
   "source": [
    "xgb = XGBClassifier()"
   ]
  },
  {
   "cell_type": "code",
   "execution_count": 77,
   "id": "dca8d250",
   "metadata": {
    "execution": {
     "iopub.execute_input": "2023-10-15T08:54:24.689292Z",
     "iopub.status.busy": "2023-10-15T08:54:24.688570Z",
     "iopub.status.idle": "2023-10-15T08:54:24.813024Z",
     "shell.execute_reply": "2023-10-15T08:54:24.812237Z"
    },
    "papermill": {
     "duration": 0.154465,
     "end_time": "2023-10-15T08:54:24.815033",
     "exception": false,
     "start_time": "2023-10-15T08:54:24.660568",
     "status": "completed"
    },
    "tags": []
   },
   "outputs": [
    {
     "data": {
      "text/html": [
       "<style>#sk-container-id-4 {color: black;background-color: white;}#sk-container-id-4 pre{padding: 0;}#sk-container-id-4 div.sk-toggleable {background-color: white;}#sk-container-id-4 label.sk-toggleable__label {cursor: pointer;display: block;width: 100%;margin-bottom: 0;padding: 0.3em;box-sizing: border-box;text-align: center;}#sk-container-id-4 label.sk-toggleable__label-arrow:before {content: \"▸\";float: left;margin-right: 0.25em;color: #696969;}#sk-container-id-4 label.sk-toggleable__label-arrow:hover:before {color: black;}#sk-container-id-4 div.sk-estimator:hover label.sk-toggleable__label-arrow:before {color: black;}#sk-container-id-4 div.sk-toggleable__content {max-height: 0;max-width: 0;overflow: hidden;text-align: left;background-color: #f0f8ff;}#sk-container-id-4 div.sk-toggleable__content pre {margin: 0.2em;color: black;border-radius: 0.25em;background-color: #f0f8ff;}#sk-container-id-4 input.sk-toggleable__control:checked~div.sk-toggleable__content {max-height: 200px;max-width: 100%;overflow: auto;}#sk-container-id-4 input.sk-toggleable__control:checked~label.sk-toggleable__label-arrow:before {content: \"▾\";}#sk-container-id-4 div.sk-estimator input.sk-toggleable__control:checked~label.sk-toggleable__label {background-color: #d4ebff;}#sk-container-id-4 div.sk-label input.sk-toggleable__control:checked~label.sk-toggleable__label {background-color: #d4ebff;}#sk-container-id-4 input.sk-hidden--visually {border: 0;clip: rect(1px 1px 1px 1px);clip: rect(1px, 1px, 1px, 1px);height: 1px;margin: -1px;overflow: hidden;padding: 0;position: absolute;width: 1px;}#sk-container-id-4 div.sk-estimator {font-family: monospace;background-color: #f0f8ff;border: 1px dotted black;border-radius: 0.25em;box-sizing: border-box;margin-bottom: 0.5em;}#sk-container-id-4 div.sk-estimator:hover {background-color: #d4ebff;}#sk-container-id-4 div.sk-parallel-item::after {content: \"\";width: 100%;border-bottom: 1px solid gray;flex-grow: 1;}#sk-container-id-4 div.sk-label:hover label.sk-toggleable__label {background-color: #d4ebff;}#sk-container-id-4 div.sk-serial::before {content: \"\";position: absolute;border-left: 1px solid gray;box-sizing: border-box;top: 0;bottom: 0;left: 50%;z-index: 0;}#sk-container-id-4 div.sk-serial {display: flex;flex-direction: column;align-items: center;background-color: white;padding-right: 0.2em;padding-left: 0.2em;position: relative;}#sk-container-id-4 div.sk-item {position: relative;z-index: 1;}#sk-container-id-4 div.sk-parallel {display: flex;align-items: stretch;justify-content: center;background-color: white;position: relative;}#sk-container-id-4 div.sk-item::before, #sk-container-id-4 div.sk-parallel-item::before {content: \"\";position: absolute;border-left: 1px solid gray;box-sizing: border-box;top: 0;bottom: 0;left: 50%;z-index: -1;}#sk-container-id-4 div.sk-parallel-item {display: flex;flex-direction: column;z-index: 1;position: relative;background-color: white;}#sk-container-id-4 div.sk-parallel-item:first-child::after {align-self: flex-end;width: 50%;}#sk-container-id-4 div.sk-parallel-item:last-child::after {align-self: flex-start;width: 50%;}#sk-container-id-4 div.sk-parallel-item:only-child::after {width: 0;}#sk-container-id-4 div.sk-dashed-wrapped {border: 1px dashed gray;margin: 0 0.4em 0.5em 0.4em;box-sizing: border-box;padding-bottom: 0.4em;background-color: white;}#sk-container-id-4 div.sk-label label {font-family: monospace;font-weight: bold;display: inline-block;line-height: 1.2em;}#sk-container-id-4 div.sk-label-container {text-align: center;}#sk-container-id-4 div.sk-container {/* jupyter's `normalize.less` sets `[hidden] { display: none; }` but bootstrap.min.css set `[hidden] { display: none !important; }` so we also need the `!important` here to be able to override the default hidden behavior on the sphinx rendered scikit-learn.org. See: https://github.com/scikit-learn/scikit-learn/issues/21755 */display: inline-block !important;position: relative;}#sk-container-id-4 div.sk-text-repr-fallback {display: none;}</style><div id=\"sk-container-id-4\" class=\"sk-top-container\"><div class=\"sk-text-repr-fallback\"><pre>XGBClassifier(base_score=None, booster=None, callbacks=None,\n",
       "              colsample_bylevel=None, colsample_bynode=None,\n",
       "              colsample_bytree=None, early_stopping_rounds=None,\n",
       "              enable_categorical=False, eval_metric=None, feature_types=None,\n",
       "              gamma=None, gpu_id=None, grow_policy=None, importance_type=None,\n",
       "              interaction_constraints=None, learning_rate=None, max_bin=None,\n",
       "              max_cat_threshold=None, max_cat_to_onehot=None,\n",
       "              max_delta_step=None, max_depth=None, max_leaves=None,\n",
       "              min_child_weight=None, missing=nan, monotone_constraints=None,\n",
       "              n_estimators=100, n_jobs=None, num_parallel_tree=None,\n",
       "              predictor=None, random_state=None, ...)</pre><b>In a Jupyter environment, please rerun this cell to show the HTML representation or trust the notebook. <br />On GitHub, the HTML representation is unable to render, please try loading this page with nbviewer.org.</b></div><div class=\"sk-container\" hidden><div class=\"sk-item\"><div class=\"sk-estimator sk-toggleable\"><input class=\"sk-toggleable__control sk-hidden--visually\" id=\"sk-estimator-id-4\" type=\"checkbox\" checked><label for=\"sk-estimator-id-4\" class=\"sk-toggleable__label sk-toggleable__label-arrow\">XGBClassifier</label><div class=\"sk-toggleable__content\"><pre>XGBClassifier(base_score=None, booster=None, callbacks=None,\n",
       "              colsample_bylevel=None, colsample_bynode=None,\n",
       "              colsample_bytree=None, early_stopping_rounds=None,\n",
       "              enable_categorical=False, eval_metric=None, feature_types=None,\n",
       "              gamma=None, gpu_id=None, grow_policy=None, importance_type=None,\n",
       "              interaction_constraints=None, learning_rate=None, max_bin=None,\n",
       "              max_cat_threshold=None, max_cat_to_onehot=None,\n",
       "              max_delta_step=None, max_depth=None, max_leaves=None,\n",
       "              min_child_weight=None, missing=nan, monotone_constraints=None,\n",
       "              n_estimators=100, n_jobs=None, num_parallel_tree=None,\n",
       "              predictor=None, random_state=None, ...)</pre></div></div></div></div></div>"
      ],
      "text/plain": [
       "XGBClassifier(base_score=None, booster=None, callbacks=None,\n",
       "              colsample_bylevel=None, colsample_bynode=None,\n",
       "              colsample_bytree=None, early_stopping_rounds=None,\n",
       "              enable_categorical=False, eval_metric=None, feature_types=None,\n",
       "              gamma=None, gpu_id=None, grow_policy=None, importance_type=None,\n",
       "              interaction_constraints=None, learning_rate=None, max_bin=None,\n",
       "              max_cat_threshold=None, max_cat_to_onehot=None,\n",
       "              max_delta_step=None, max_depth=None, max_leaves=None,\n",
       "              min_child_weight=None, missing=nan, monotone_constraints=None,\n",
       "              n_estimators=100, n_jobs=None, num_parallel_tree=None,\n",
       "              predictor=None, random_state=None, ...)"
      ]
     },
     "execution_count": 77,
     "metadata": {},
     "output_type": "execute_result"
    }
   ],
   "source": [
    "xgb.fit(X_train, y_train)"
   ]
  },
  {
   "cell_type": "code",
   "execution_count": 78,
   "id": "0cb0b590",
   "metadata": {
    "execution": {
     "iopub.execute_input": "2023-10-15T08:54:24.870428Z",
     "iopub.status.busy": "2023-10-15T08:54:24.870070Z",
     "iopub.status.idle": "2023-10-15T08:54:24.878419Z",
     "shell.execute_reply": "2023-10-15T08:54:24.877582Z"
    },
    "papermill": {
     "duration": 0.037841,
     "end_time": "2023-10-15T08:54:24.880246",
     "exception": false,
     "start_time": "2023-10-15T08:54:24.842405",
     "status": "completed"
    },
    "tags": []
   },
   "outputs": [
    {
     "name": "stdout",
     "output_type": "stream",
     "text": [
      "Prediction :\n",
      " [0 1 0 1 1 0 0 0 0 0]\n",
      "Actual_result :\n",
      " [0, 1, 0, 1, 1, 0, 0, 0, 0, 0]\n"
     ]
    }
   ],
   "source": [
    "print(\"Prediction :\\n\", np.round(rf.predict(X_train[:10])))\n",
    "print(\"Actual_result :\\n\", list(y_train[:10]))"
   ]
  },
  {
   "cell_type": "code",
   "execution_count": 79,
   "id": "72d785c2",
   "metadata": {
    "execution": {
     "iopub.execute_input": "2023-10-15T08:54:24.935474Z",
     "iopub.status.busy": "2023-10-15T08:54:24.934841Z",
     "iopub.status.idle": "2023-10-15T08:54:24.944765Z",
     "shell.execute_reply": "2023-10-15T08:54:24.943874Z"
    },
    "papermill": {
     "duration": 0.040312,
     "end_time": "2023-10-15T08:54:24.947231",
     "exception": false,
     "start_time": "2023-10-15T08:54:24.906919",
     "status": "completed"
    },
    "tags": []
   },
   "outputs": [
    {
     "name": "stdout",
     "output_type": "stream",
     "text": [
      "Survived 67\n",
      "Not Survived 111\n"
     ]
    }
   ],
   "source": [
    "y_pred = xgb.predict(X_test)\n",
    "print(\"Survived\", sum(y_pred!=0))\n",
    "print(\"Not Survived\", sum(y_pred==0))"
   ]
  },
  {
   "cell_type": "code",
   "execution_count": 80,
   "id": "7fa7ff9f",
   "metadata": {
    "execution": {
     "iopub.execute_input": "2023-10-15T08:54:25.002621Z",
     "iopub.status.busy": "2023-10-15T08:54:25.002277Z",
     "iopub.status.idle": "2023-10-15T08:54:25.175980Z",
     "shell.execute_reply": "2023-10-15T08:54:25.174748Z"
    },
    "papermill": {
     "duration": 0.204359,
     "end_time": "2023-10-15T08:54:25.178450",
     "exception": false,
     "start_time": "2023-10-15T08:54:24.974091",
     "status": "completed"
    },
    "tags": []
   },
   "outputs": [
    {
     "name": "stdout",
     "output_type": "stream",
     "text": [
      "[0.74157303 0.79775281 0.82022472 0.75280899 0.83146067 0.82022472\n",
      " 0.82022472 0.71910112 0.78651685 0.79545455]\n"
     ]
    }
   ],
   "source": [
    "scoring = 'accuracy'\n",
    "score = cross_val_score(rf, X, y, cv=k_fold, n_jobs=1, scoring=scoring)\n",
    "print(score)"
   ]
  },
  {
   "cell_type": "code",
   "execution_count": 81,
   "id": "8af9b6ad",
   "metadata": {
    "execution": {
     "iopub.execute_input": "2023-10-15T08:54:25.235639Z",
     "iopub.status.busy": "2023-10-15T08:54:25.235277Z",
     "iopub.status.idle": "2023-10-15T08:54:25.241245Z",
     "shell.execute_reply": "2023-10-15T08:54:25.240483Z"
    },
    "papermill": {
     "duration": 0.036607,
     "end_time": "2023-10-15T08:54:25.243012",
     "exception": false,
     "start_time": "2023-10-15T08:54:25.206405",
     "status": "completed"
    },
    "tags": []
   },
   "outputs": [
    {
     "data": {
      "text/plain": [
       "78.85"
      ]
     },
     "execution_count": 81,
     "metadata": {},
     "output_type": "execute_result"
    }
   ],
   "source": [
    "round(np.mean(score)*100, 2)"
   ]
  },
  {
   "cell_type": "code",
   "execution_count": 82,
   "id": "b3e214c7",
   "metadata": {
    "execution": {
     "iopub.execute_input": "2023-10-15T08:54:25.299884Z",
     "iopub.status.busy": "2023-10-15T08:54:25.298953Z",
     "iopub.status.idle": "2023-10-15T08:54:25.319685Z",
     "shell.execute_reply": "2023-10-15T08:54:25.317962Z"
    },
    "papermill": {
     "duration": 0.052323,
     "end_time": "2023-10-15T08:54:25.322303",
     "exception": false,
     "start_time": "2023-10-15T08:54:25.269980",
     "status": "completed"
    },
    "tags": []
   },
   "outputs": [
    {
     "name": "stdout",
     "output_type": "stream",
     "text": [
      "0.25\n"
     ]
    }
   ],
   "source": [
    "y_pred= xgb.predict(X_test)\n",
    "svc_rmae = mean_absolute_error(y_test, y_pred)\n",
    "print(\"%.2f\" %svc_rmae)"
   ]
  },
  {
   "cell_type": "code",
   "execution_count": 83,
   "id": "a3471245",
   "metadata": {
    "execution": {
     "iopub.execute_input": "2023-10-15T08:54:25.389112Z",
     "iopub.status.busy": "2023-10-15T08:54:25.388188Z",
     "iopub.status.idle": "2023-10-15T08:54:25.397145Z",
     "shell.execute_reply": "2023-10-15T08:54:25.395908Z"
    },
    "papermill": {
     "duration": 0.046134,
     "end_time": "2023-10-15T08:54:25.399900",
     "exception": false,
     "start_time": "2023-10-15T08:54:25.353766",
     "status": "completed"
    },
    "tags": []
   },
   "outputs": [
    {
     "data": {
      "text/plain": [
       "array([[86, 19],\n",
       "       [25, 48]])"
      ]
     },
     "execution_count": 83,
     "metadata": {},
     "output_type": "execute_result"
    }
   ],
   "source": [
    "from sklearn.metrics import confusion_matrix\n",
    "from sklearn.metrics import classification_report\n",
    "cm = confusion_matrix(y_test, y_pred)\n",
    "cm"
   ]
  },
  {
   "cell_type": "code",
   "execution_count": 84,
   "id": "221204fd",
   "metadata": {
    "execution": {
     "iopub.execute_input": "2023-10-15T08:54:25.459680Z",
     "iopub.status.busy": "2023-10-15T08:54:25.459023Z",
     "iopub.status.idle": "2023-10-15T08:54:25.470068Z",
     "shell.execute_reply": "2023-10-15T08:54:25.468930Z"
    },
    "papermill": {
     "duration": 0.041753,
     "end_time": "2023-10-15T08:54:25.472328",
     "exception": false,
     "start_time": "2023-10-15T08:54:25.430575",
     "status": "completed"
    },
    "tags": []
   },
   "outputs": [
    {
     "name": "stdout",
     "output_type": "stream",
     "text": [
      "              precision    recall  f1-score   support\n",
      "\n",
      "           0       0.77      0.82      0.80       105\n",
      "           1       0.72      0.66      0.69        73\n",
      "\n",
      "    accuracy                           0.75       178\n",
      "   macro avg       0.75      0.74      0.74       178\n",
      "weighted avg       0.75      0.75      0.75       178\n",
      "\n"
     ]
    }
   ],
   "source": [
    "print(classification_report(y_test, y_pred))"
   ]
  }
 ],
 "metadata": {
  "kernelspec": {
   "display_name": "Python 3",
   "language": "python",
   "name": "python3"
  },
  "language_info": {
   "codemirror_mode": {
    "name": "ipython",
    "version": 3
   },
   "file_extension": ".py",
   "mimetype": "text/x-python",
   "name": "python",
   "nbconvert_exporter": "python",
   "pygments_lexer": "ipython3",
   "version": "3.10.12"
  },
  "papermill": {
   "default_parameters": {},
   "duration": 19.853808,
   "end_time": "2023-10-15T08:54:26.225678",
   "environment_variables": {},
   "exception": null,
   "input_path": "__notebook__.ipynb",
   "output_path": "__notebook__.ipynb",
   "parameters": {},
   "start_time": "2023-10-15T08:54:06.371870",
   "version": "2.4.0"
  }
 },
 "nbformat": 4,
 "nbformat_minor": 5
}
